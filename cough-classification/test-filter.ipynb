{
 "cells": [
  {
   "cell_type": "code",
   "execution_count": 3,
   "id": "dd2a3b37",
   "metadata": {},
   "outputs": [],
   "source": [
    "import numpy as np\n",
    "import pandas as pd\n",
    "import matplotlib.pyplot as plt\n",
    "import librosa\n",
    "import scipy\n",
    "from IPython.display import Audio\n",
    "from scipy.signal import find_peaks\n",
    "from scipy.signal import butter, lfilter"
   ]
  },
  {
   "cell_type": "code",
   "execution_count": 9,
   "id": "97cd6741",
   "metadata": {},
   "outputs": [],
   "source": [
    "# Filtering of the data\n",
    "\n",
    "def butter_bandpass(lowcut, highcut, fs, order=8):\n",
    "        nyq = 0.5 * fs\n",
    "        low = lowcut / nyq\n",
    "        high = highcut / nyq\n",
    "        sos = butter(order, [low, high], analog=False, btype='band', output='sos')\n",
    "        return sos\n",
    "\n",
    "def butter_bandpass_filter(data, lowcut, highcut, fs, order=8):\n",
    "        sos = butter_bandpass(lowcut, highcut, fs, order=order)\n",
    "        y = sosfilt(sos, data)\n",
    "        return y"
   ]
  },
  {
   "cell_type": "code",
   "execution_count": 10,
   "id": "301a5977",
   "metadata": {
    "scrolled": false
   },
   "outputs": [
    {
     "ename": "TypeError",
     "evalue": "butter_bandpass_filter() missing 1 required positional argument: 'data'",
     "output_type": "error",
     "traceback": [
      "\u001b[0;31m---------------------------------------------------------------------------\u001b[0m",
      "\u001b[0;31mTypeError\u001b[0m                                 Traceback (most recent call last)",
      "Cell \u001b[0;32mIn[10], line 5\u001b[0m\n\u001b[1;32m      2\u001b[0m t \u001b[38;5;241m=\u001b[39m np\u001b[38;5;241m.\u001b[39marange(\u001b[38;5;241m0\u001b[39m, \u001b[38;5;241m1\u001b[39m, \u001b[38;5;241m1\u001b[39m\u001b[38;5;241m/\u001b[39mfs)  \u001b[38;5;66;03m# Time vector from 0 to 1 second\u001b[39;00m\n\u001b[1;32m      4\u001b[0m \u001b[38;5;66;03m# Plot frequency response of the filter\u001b[39;00m\n\u001b[0;32m----> 5\u001b[0m y \u001b[38;5;241m=\u001b[39m butter_bandpass_filter(lowcut\u001b[38;5;241m=\u001b[39m\u001b[38;5;241m1000.0\u001b[39m, highcut\u001b[38;5;241m=\u001b[39m\u001b[38;5;241m4000.0\u001b[39m, fs\u001b[38;5;241m=\u001b[39mfs, order\u001b[38;5;241m=\u001b[39m\u001b[38;5;241m8\u001b[39m)\n\u001b[1;32m      7\u001b[0m plt\u001b[38;5;241m.\u001b[39mfigure()\n\u001b[1;32m      8\u001b[0m plt\u001b[38;5;241m.\u001b[39mplot(\u001b[38;5;241m0.5\u001b[39m \u001b[38;5;241m*\u001b[39m fs \u001b[38;5;241m*\u001b[39m w \u001b[38;5;241m/\u001b[39m np\u001b[38;5;241m.\u001b[39mpi, np\u001b[38;5;241m.\u001b[39mabs(h), \u001b[38;5;124m'\u001b[39m\u001b[38;5;124mb\u001b[39m\u001b[38;5;124m'\u001b[39m)\n",
      "\u001b[0;31mTypeError\u001b[0m: butter_bandpass_filter() missing 1 required positional argument: 'data'"
     ]
    }
   ],
   "source": [
    "fs = 100000.0  # Sampling frequency (Hz)\n",
    "t = np.arange(0, 1, 1/fs)  # Time vector from 0 to 1 second\n",
    "nyq = 0.5 * fs \n",
    "\n",
    "lowcut = 1000.0 / nyq\n",
    "highcut = 4000.0 / nyq\n",
    "\n",
    "# Plot frequency response of the filter\n",
    "sos = butter_bandpass(lowcut, highcut, fs, order=8)\n",
    "w, h = sosfreqz(sos, worN=10000)\n",
    "\n",
    "plt.figure()\n",
    "plt.plot(0.5 * fs * w / np.pi, np.abs(h), 'b')\n",
    "plt.plot(lowcut * nyq, 0.5*np.sqrt(2), 'ko')\n",
    "plt.plot(highcut * nyq, 0.5*np.sqrt(2), 'ko')\n",
    "plt.axvline(lowcut, color='k')\n",
    "plt.axvline(highcut, color='k')\n",
    "plt.xlim(0, 10000)\n",
    "plt.ylim(0, 1.1)\n",
    "\n",
    "plt.vlines(lowcut * nyq, 0, 0.5*np.sqrt(2), color='k', linestyle='--')\n",
    "plt.vlines(highcut * nyq, 0, 0.5*np.sqrt(2), color='k', linestyle='--')\n",
    "\n",
    "plt.title(\"Bandpass Filter Frequency Response\")\n",
    "plt.xlabel('Frequency [Hz]')\n",
    "plt.ylabel('Frequency Response')\n",
    "\n",
    "\n",
    "plt.grid()\n"
   ]
  }
 ],
 "metadata": {
  "kernelspec": {
   "display_name": "Python 3 (ipykernel)",
   "language": "python",
   "name": "python3"
  },
  "language_info": {
   "codemirror_mode": {
    "name": "ipython",
    "version": 3
   },
   "file_extension": ".py",
   "mimetype": "text/x-python",
   "name": "python",
   "nbconvert_exporter": "python",
   "pygments_lexer": "ipython3",
   "version": "3.11.4"
  }
 },
 "nbformat": 4,
 "nbformat_minor": 5
}
