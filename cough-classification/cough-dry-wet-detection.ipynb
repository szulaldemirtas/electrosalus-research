{
 "cells": [
  {
   "cell_type": "code",
   "execution_count": 1462,
   "id": "1b889b55",
   "metadata": {},
   "outputs": [],
   "source": [
    "import numpy as np\n",
    "import pandas as pd\n",
    "import matplotlib.pyplot as plt\n",
    "from IPython.display import Audio\n",
    "import scipy\n",
    "from scipy.signal import find_peaks\n",
    "from scipy.signal import butter, sosfilt, sosfreqz\n",
    "from scipy.integrate import simps\n",
    "from scipy.io.wavfile import write\n",
    "import bisect\n",
    "import sklearn\n",
    "from sklearn.model_selection import train_test_split\n",
    "from sklearn.neighbors import KNeighborsClassifier\n",
    "from sklearn.linear_model import LogisticRegression\n",
    "from sklearn.svm import SVC\n",
    "from sklearn.ensemble import RandomForestClassifier\n",
    "from sklearn.naive_bayes import GaussianNB\n",
    "from sklearn.metrics import confusion_matrix, recall_score, precision_score, f1_score, accuracy_score\n",
    "from scipy.fftpack import dct\n",
    "from sklearn.model_selection import GridSearchCV\n",
    "from sklearn.model_selection import cross_val_score\n",
    "from sklearn.model_selection import KFold\n",
    "from sklearn.decomposition import PCA\n",
    "from sklearn.metrics import ConfusionMatrixDisplay\n",
    "from sklearn.metrics import make_scorer, f1_score\n",
    "from sklearn import preprocessing\n",
    "from sklearn.preprocessing import LabelEncoder\n",
    "from sklearn.preprocessing import scale\n",
    "from sklearn.preprocessing import StandardScaler\n",
    "scale = StandardScaler()\n",
    "import sounddevice as sd\n",
    "import wavio as wv\n",
    "from datetime import datetime\n",
    "import threading\n",
    "import time\n",
    "from time import sleep\n",
    "from statistics import stdev\n",
    "from sklearn.datasets import make_classification\n",
    "from sklearn.feature_selection import mutual_info_classif\n",
    "import norm\n",
    "from scipy.signal import lfilter\n",
    "from scipy.signal import find_peaks\n",
    "from scipy.stats import probplot"
   ]
  },
  {
   "cell_type": "markdown",
   "id": "a48b6d18",
   "metadata": {},
   "source": [
    "# Data Preparation"
   ]
  },
  {
   "cell_type": "markdown",
   "id": "a13b23a3",
   "metadata": {},
   "source": [
    "## Data Loading"
   ]
  },
  {
   "cell_type": "code",
   "execution_count": 1463,
   "id": "b587eb74",
   "metadata": {},
   "outputs": [],
   "source": [
    "# Extracts timestamps from a .txt file\n",
    "# Each line in the file contains a start and finish time separated by a tab.\n",
    "\n",
    "def get_real_timestamps(audio_timestamp_file):\n",
    "    \n",
    "    \"\"\"\n",
    "    Parses a .txt file containing timestamp information.\n",
    "    \n",
    "    Parameters:\n",
    "        audio_timestamp_file (str): Path to the .txt file.\n",
    "    \n",
    "    Returns:\n",
    "        list: List of tuples, each containing start and finish times.\n",
    "    \"\"\"\n",
    "    \n",
    "    timestamps = []\n",
    "\n",
    "    with open(audio_timestamp_file, \"r\") as f:\n",
    "        for line in f:\n",
    "            line = line.strip()\n",
    "            if line:\n",
    "                start, end = map(float, line.split(\"\\t\"))\n",
    "                timestamps.append((start, end))\n",
    "\n",
    "    return timestamps"
   ]
  },
  {
   "cell_type": "code",
   "execution_count": 1464,
   "id": "63f25d28",
   "metadata": {},
   "outputs": [],
   "source": [
    "import os\n",
    "import librosa\n",
    "\n",
    "# Function to load audio data along with corresponding timestamps and labels.\n",
    "def load_data(audio_dir, timestamp_dir, label, sr=48000):\n",
    "    \n",
    "    \"\"\"\n",
    "    Loads audio data from WAV files along with corresponding timestamps and labels.\n",
    "\n",
    "    Parameters:\n",
    "        audio_dir (str): Directory containing audio WAV files.\n",
    "        timestamp_dir (str): Directory containing timestamp text files.\n",
    "        label (str): Label to assign to the loaded data.\n",
    "        sr (int): Sample rate of the audio files (default is 48000).\n",
    "\n",
    "    Returns:\n",
    "        tuple: A tuple containing lists of loaded audio data, timestamps, and labels.\n",
    "    \"\"\"\n",
    "    \n",
    "    audio_files = [file for file in os.listdir(audio_dir) if file.endswith('.wav')]\n",
    "    timestamp_files = [file for file in os.listdir(timestamp_dir) if file.endswith('.txt')]\n",
    "    \n",
    "    \n",
    "    audios = []\n",
    "    timestamps = []\n",
    "    labels = []\n",
    "    \n",
    "    for audio_file in audio_files:\n",
    "    \n",
    "        try:\n",
    "            \n",
    "            base_name = os.path.splitext(audio_file)[0]\n",
    "            timestamp_file = base_name + '-label.txt'\n",
    "            \n",
    "            if timestamp_file not in timestamp_files:\n",
    "                raise ValueError(f\"No corresponding timestamp file found for {audio_file}\")\n",
    "                \n",
    "            audio_path = os.path.join(audio_dir, audio_file)\n",
    "            timestamp_path = os.path.join(timestamp_dir, timestamp_file)\n",
    "            \n",
    "            # Adding timestamps to the list\n",
    "            real_timestamps = get_real_timestamps(timestamp_path)\n",
    "\n",
    "            # Loading audio file\n",
    "            data, sample_rate = librosa.load(audio_path, sr=sr, mono=True)\n",
    "            data = librosa.resample(data, orig_sr=sample_rate, target_sr=sr)\n",
    "\n",
    "            audios.append(data)\n",
    "            timestamps.append(real_timestamps)\n",
    "            labels.append(label)\n",
    "\n",
    "        except Exception as e:\n",
    "            print(f\"Error processing {audio_file}: {e}\")\n",
    "            continue\n",
    "\n",
    "    \n",
    "    return audios, timestamps, labels"
   ]
  },
  {
   "cell_type": "code",
   "execution_count": 1465,
   "id": "3571ac70",
   "metadata": {
    "scrolled": true
   },
   "outputs": [
    {
     "name": "stdout",
     "output_type": "stream",
     "text": [
      "Error processing wet-audio-34.wav: No corresponding timestamp file found for wet-audio-34.wav\n"
     ]
    }
   ],
   "source": [
    "# Initialize an empty dictionary to store audio data along with timestamps and labels\n",
    "audio_data = {'audio': [], 'timestamps': [], 'label': []}\n",
    "\n",
    "# Define the sample rate for the audio data\n",
    "sample_rate = 48000\n",
    "\n",
    "# Load cough and non-cough audio data along with their timestamps and labels\n",
    "wet_cough_data, wet_cough_timestamps, wet_cough_labels = load_data('./recordings-and-timestamps/audio-recordings/coughvid-wet-coughs/', './recordings-and-timestamps/audio-timestamps/coughvid-wet-cough-timestamps/', 'wet')\n",
    "dry_cough_data, dry_cough_timestamps, dry_cough_labels = load_data('./recordings-and-timestamps/audio-recordings/coughvid-dry-coughs/', './recordings-and-timestamps/audio-timestamps/coughvid-dry-cough-timestamps/', 'dry')\n",
    "\n",
    "audio_data['audio'].extend(wet_cough_data + dry_cough_data)\n",
    "audio_data['timestamps'].extend(wet_cough_timestamps + dry_cough_timestamps)\n",
    "audio_data['label'].extend(wet_cough_labels + dry_cough_labels)"
   ]
  },
  {
   "cell_type": "markdown",
   "id": "959d08af",
   "metadata": {},
   "source": [
    "## Data Splitting"
   ]
  },
  {
   "cell_type": "code",
   "execution_count": 1466,
   "id": "1ad0cc7b",
   "metadata": {
    "scrolled": false
   },
   "outputs": [
    {
     "data": {
      "image/png": "[encoded data removed]",
      "text/plain": [
       "<Figure size 640x480 with 1 Axes>"
      ]
     },
     "metadata": {},
     "output_type": "display_data"
    }
   ],
   "source": [
    "# Splitting the dataset into cough and other categories for classification.\n",
    "df_init = pd.DataFrame.from_dict(audio_data)\n",
    "\n",
    "X = df_init.iloc[:,:-1]\n",
    "y = df_init.iloc[:, -1]\n",
    "\n",
    "# Splitting cough data into train and test sets\n",
    "X_train_raw, X_test_raw, y_train_raw, y_test_raw = train_test_split(X, y, random_state=3, train_size=0.70)\n",
    "\n",
    "# Data Distribution\n",
    "\n",
    "label_counts = df_init['label'].value_counts()\n",
    "\n",
    "fig, ax = plt.subplots()\n",
    "ax.pie(label_counts, labels=label_counts.index, autopct='%1.1f%%')\n",
    "plt.title(\"Data Distribution\")\n",
    "plt.show()"
   ]
  },
  {
   "cell_type": "markdown",
   "id": "e623b1cf",
   "metadata": {},
   "source": [
    "## Data Normalization and Filtering"
   ]
  },
  {
   "cell_type": "markdown",
   "id": "d69c172e",
   "metadata": {},
   "source": [
    "### Preprocessing Functions"
   ]
  },
  {
   "cell_type": "code",
   "execution_count": 1467,
   "id": "e36053ee",
   "metadata": {},
   "outputs": [],
   "source": [
    "# Function to normalize the given data\n",
    "\n",
    "def normalize_data(data):\n",
    "\n",
    "    # Find the minimum and maximum values in the data\n",
    "    data_min = np.min(data)\n",
    "    data_max = np.max(data)\n",
    "\n",
    "    # Normalize the data using min-max scaling\n",
    "    normalized_data = (data - data_min) / (data_max - data_min)\n",
    "\n",
    "    return normalized_data"
   ]
  },
  {
   "cell_type": "code",
   "execution_count": 1468,
   "id": "bd4d775b",
   "metadata": {},
   "outputs": [],
   "source": [
    "def compute_moving_average(data, window_size=15):\n",
    "\n",
    "    \"\"\"\n",
    "    Computes the moving average of the input data using a specified window size.\n",
    "\n",
    "    Parameters:\n",
    "    - data (array-like): Input data to compute the moving average.\n",
    "    - window_size (int, optional): Size of the moving average window. Defaults to 15.\n",
    "\n",
    "    Returns:\n",
    "    - array: Array containing the moving averages.\n",
    "\n",
    "    Note:\n",
    "    The moving average is computed using a simple convolution with a kernel of ones.\n",
    "    \"\"\"\n",
    "    kernel = np.ones(window_size) / window_size\n",
    "    moving_averages = np.convolve(data, kernel, mode='valid')\n",
    "    moving_averages = np.round(moving_averages, 2)\n",
    "    \n",
    "    return moving_averages"
   ]
  },
  {
   "cell_type": "code",
   "execution_count": 1469,
   "id": "88ba4299",
   "metadata": {},
   "outputs": [],
   "source": [
    "# This function designs a Butterworth bandpass filter and applies it to the input data.\n",
    "\n",
    "def butter_bandpass(lowcut, highcut, fs, order=8):\n",
    "    \n",
    "    \"\"\"\n",
    "    Design a Butterworth bandpass filter.\n",
    "\n",
    "    Parameters:\n",
    "    - lowcut (float): The low cutoff frequency.\n",
    "    - highcut (float): The high cutoff frequency.\n",
    "    - fs (float): The sampling frequency of the signal.\n",
    "    - order (int): The order of the filter (default is 8).\n",
    "\n",
    "    Returns:\n",
    "    - sos (ndarray): Second-order sections (SOS) representation of the filter.\n",
    "    \"\"\"\n",
    "\n",
    "    nyq = 0.5 * fs\n",
    "    low = lowcut / nyq\n",
    "    high = highcut / nyq\n",
    "    sos = butter(order, [low, high], analog=False, btype='band', output='sos')\n",
    "    return sos\n",
    "\n",
    "def butter_bandpass_filter(data, lowcut, highcut, fs, order=8):\n",
    "    \n",
    "    \"\"\"\n",
    "    Apply a Butterworth bandpass filter to the input data.\n",
    "\n",
    "    Parameters:\n",
    "    - data (array_like): Input data to be filtered.\n",
    "    - lowcut (float): The low cutoff frequency.\n",
    "    - highcut (float): The high cutoff frequency.\n",
    "    - fs (float): The sampling frequency of the signal.\n",
    "    - order (int): The order of the filter (default is 8).\n",
    "\n",
    "    Returns:\n",
    "    - y (array_like): Filtered output data.\n",
    "    \"\"\"\n",
    "\n",
    "    sos = butter_bandpass(lowcut, highcut, fs, order=order)\n",
    "    y = sosfilt(sos, data)\n",
    "    return y"
   ]
  },
  {
   "cell_type": "code",
   "execution_count": 1470,
   "id": "d75b4457",
   "metadata": {},
   "outputs": [],
   "source": [
    "# Preprocesses the input data by applying a bandpass filter, computing moving average, and normalizing the data.\n",
    "def preprocess_data(data):\n",
    "    \n",
    "    \"\"\"\n",
    "    Parameters:\n",
    "    - data (ndarray): Input data to be preprocessed.\n",
    "        \n",
    "    Returns:\n",
    "    - ndarray: Preprocessed data.\n",
    "\n",
    "    Note:\n",
    "    - This function applies a bandpass filter, computes the moving average, and normalizes the data.\n",
    "    \"\"\"\n",
    "\n",
    "    # Apply bandpass filter to remove unwanted frequencies\n",
    "    filtered_data = butter_bandpass_filter(data, lowcut=1000, highcut=4000, fs=sample_rate, order=8)\n",
    "\n",
    "    # Compute moving average of the absolute values of the filtered data\n",
    "    averaged_data = compute_moving_average(np.abs(filtered_data))\n",
    "\n",
    "    # Normalize the data\n",
    "    normalized_data = normalize_data(averaged_data)\n",
    "\n",
    "    # Flatten the data\n",
    "    flattened_data = normalized_data.flatten()\n",
    "\n",
    "    return flattened_data"
   ]
  },
  {
   "cell_type": "markdown",
   "id": "06f1202e",
   "metadata": {},
   "source": [
    "### Percentile Calculation Functions"
   ]
  },
  {
   "cell_type": "code",
   "execution_count": 1471,
   "id": "f76e74b4",
   "metadata": {},
   "outputs": [],
   "source": [
    "def find_percentile_points(signal):\n",
    "    \n",
    "        \"\"\"\n",
    "        Calculate the percentile points (25th, 50th, 75th, and 90th percentiles) of a signal using Fast Fourier Transform (FFT).\n",
    "\n",
    "        Parameters:\n",
    "        - signal (array_like): The input signal.\n",
    "        - sample_rate (float): The sampling rate of the signal.\n",
    "\n",
    "        Returns:\n",
    "        - tuple: A tuple containing the percentile points (25th, 50th, 75th, and 90th percentiles).\n",
    "        \n",
    "        \"\"\"\n",
    "        \n",
    "        # Calculate Fast Fourier Transform\n",
    "        X = np.fft.fft(signal)\n",
    "        X_mag = np.abs(X) / len(signal)\n",
    "        freqs = np.fft.fftfreq(len(signal), d=1/sample_rate)\n",
    "\n",
    "        # Consider only positive frequencies\n",
    "        positive_freq_indices = np.where(freqs >= 0)\n",
    "        freqs = freqs[positive_freq_indices]\n",
    "        X_mag = X_mag[positive_freq_indices]\n",
    "\n",
    "        # Calculate area under curve\n",
    "        auc = simps(X_mag, freqs)\n",
    "\n",
    "        # Define percentiles\n",
    "        per_25 = auc * 0.25\n",
    "        per_50 = auc * 0.50\n",
    "        per_75 = auc * 0.75\n",
    "        per_90 = auc * 0.90\n",
    "\n",
    "        # Calculate cumulative area\n",
    "        cumulative_auc = np.cumsum(X_mag)\n",
    "\n",
    "        # Find indices for each percentile\n",
    "        point_1 = np.argmax(cumulative_auc >= per_25)\n",
    "        point_2 = np.argmax(cumulative_auc >= per_50)\n",
    "        point_3 = np.argmax(cumulative_auc >= per_75)\n",
    "        point_4 = np.argmax(cumulative_auc >= per_90)\n",
    "\n",
    "        # Retrieve frequency points corresponding to percentiles\n",
    "        per_25_result = freqs[point_1]\n",
    "        per_50_result = freqs[point_2]\n",
    "        per_75_result = freqs[point_3]\n",
    "        per_90_result = freqs[point_4]\n",
    "\n",
    "        return per_25_result, per_50_result, per_75_result, per_90_result"
   ]
  },
  {
   "cell_type": "markdown",
   "id": "93112b56",
   "metadata": {},
   "source": [
    "### MFCC Calculation Functions"
   ]
  },
  {
   "cell_type": "code",
   "execution_count": 1472,
   "id": "268198e8",
   "metadata": {},
   "outputs": [],
   "source": [
    "def get_mfcc_features(signal, sample_rate=48000, n_mfcc=13, delta_width=3):\n",
    "    \"\"\"\n",
    "    Compute Mel-Frequency Cepstral Coefficients (MFCCs) and their first and second derivatives.\n",
    "\n",
    "    Parameters:\n",
    "    - signal (ndarray): Input audio signal.\n",
    "    - sample_rate (int): Sampling rate of the input signal.\n",
    "    - n_mfcc (int): Number of MFCC coefficients to compute.\n",
    "    - delta_width (int): Width parameter for computing delta features.\n",
    "\n",
    "    Returns:\n",
    "    - tuple: A tuple containing the MFCCs, first-order derivatives, and second-order derivatives.\n",
    "    \"\"\"\n",
    "\n",
    "    # Original MFCCs\n",
    "    mfccs = librosa.feature.mfcc(y=signal, sr=sample_rate, n_mfcc=n_mfcc)\n",
    "\n",
    "    # First derivative of MFCCs\n",
    "    delta_mfccs = librosa.feature.delta(mfccs, width=delta_width)\n",
    "\n",
    "    # Second derivative of MFCCs\n",
    "    delta2_mfccs = librosa.feature.delta(mfccs, order=2, width=delta_width)\n",
    "\n",
    "    return mfccs, delta_mfccs, delta2_mfccs"
   ]
  },
  {
   "cell_type": "markdown",
   "id": "51909710",
   "metadata": {},
   "source": [
    "### Other Feature Extraction Functions"
   ]
  },
  {
   "cell_type": "code",
   "execution_count": 1473,
   "id": "3b52dc79",
   "metadata": {},
   "outputs": [],
   "source": [
    "def compute_statistics(feature):\n",
    "    statistics = [\n",
    "        np.mean(feature),\n",
    "        np.median(feature),\n",
    "        np.sqrt(np.mean(np.square(feature))),\n",
    "        np.max(feature),\n",
    "        np.min(feature),\n",
    "        np.percentile(feature, 25),\n",
    "        np.percentile(feature, 75),\n",
    "        scipy.stats.iqr(t),\n",
    "        np.std(feature),\n",
    "        scipy.stats.skew(feature),\n",
    "        scipy.stats.kurtosis(feature)\n",
    "    ]\n",
    "    return np.array(statistics)"
   ]
  },
  {
   "cell_type": "code",
   "execution_count": 1474,
   "id": "cf68f6b0",
   "metadata": {},
   "outputs": [],
   "source": [
    "def calculate_log_energy(signal):\n",
    "    \"\"\"\n",
    "    Calculate the log energy of a signal.\n",
    "    \n",
    "    Parameters:\n",
    "        signal (numpy.ndarray): Input signal\n",
    "        \n",
    "    Returns:\n",
    "        float: Log energy of the signal\n",
    "    \"\"\"\n",
    "    # Compute the energy of the signal\n",
    "    energy = np.sum(np.square(signal))\n",
    "    \n",
    "    # Take the logarithm of the energy\n",
    "    log_energy = np.log(energy)\n",
    "    \n",
    "    return log_energy"
   ]
  },
  {
   "cell_type": "code",
   "execution_count": 1475,
   "id": "9e35bd5b",
   "metadata": {},
   "outputs": [],
   "source": [
    "def get_spectral_centroid(data):\n",
    "    \n",
    "    spectral_centroid = librosa.feature.spectral_centroid(y=data, sr=sample_rate)[0]\n",
    "    spectral_centroid_statistics = compute_statistics(spectral_centroid)\n",
    "    \n",
    "    return spectral_centroid_statistics"
   ]
  },
  {
   "cell_type": "code",
   "execution_count": 1476,
   "id": "0e4a0be5",
   "metadata": {},
   "outputs": [],
   "source": [
    "# Compute the spectral bandwidth of an audio signal.\n",
    "\n",
    "def get_spectral_bandwidth(data):\n",
    "    \n",
    "    spectral_bandwidth=librosa.feature.spectral_bandwidth(y=data)[0]\n",
    "    spectral_bandwidth_statistics = compute_statistics(spectral_bandwidth)\n",
    "    \n",
    "    return spectral_bandwidth_statistics"
   ]
  },
  {
   "cell_type": "code",
   "execution_count": 1477,
   "id": "67ca1ea0",
   "metadata": {},
   "outputs": [],
   "source": [
    "# Compute the spectral contrast of an audio signal.\n",
    "\n",
    "def get_spectral_contrast(data):\n",
    "\n",
    "    spectral_contrast=librosa.feature.spectral_contrast(y=data)[0]\n",
    "    spectral_contrast_statistics = compute_statistics(spectral_contrast)\n",
    "    \n",
    "    return spectral_contrast_statistics"
   ]
  },
  {
   "cell_type": "code",
   "execution_count": 1478,
   "id": "8a54a0e3",
   "metadata": {},
   "outputs": [],
   "source": [
    "# Compute the spectral flatness of an audio signal.\n",
    "\n",
    "def get_spectral_flatness(data):\n",
    "\n",
    "    spectral_flatness=librosa.feature.spectral_flatness(y=data)[0]\n",
    "    spectral_flatness_statistics = compute_statistics(spectral_flatness)\n",
    "    \n",
    "    return spectral_flatness_statistics"
   ]
  },
  {
   "cell_type": "code",
   "execution_count": 1479,
   "id": "dd7054ef",
   "metadata": {},
   "outputs": [],
   "source": [
    "# Compute the spectral rolloff of an audio signal.\n",
    "\n",
    "def get_spectral_rolloff(data):\n",
    "\n",
    "    spectral_rolloff=librosa.feature.spectral_rolloff(y=data)[0]\n",
    "    spectral_rolloff_statistics = compute_statistics(spectral_rolloff)\n",
    "    \n",
    "    return spectral_rolloff_statistics"
   ]
  },
  {
   "cell_type": "markdown",
   "id": "916397ec",
   "metadata": {},
   "source": [
    "## Extracting Data Features"
   ]
  },
  {
   "cell_type": "code",
   "execution_count": 1480,
   "id": "e54ce215",
   "metadata": {},
   "outputs": [],
   "source": [
    "def get_feature_dictionary(data_frame):\n",
    "    \n",
    "    feature_dict = {\n",
    "    'percentile_25': [],\n",
    "    'percentile_50': [],\n",
    "    'percentile_75': [],\n",
    "    'percentile_90': [],\n",
    "    'mfcc': [],\n",
    "    'sc': [],\n",
    "    'spectral_bandwidth': [],\n",
    "    'spectral_contrast': [],\n",
    "    'spectral_flatness': [],\n",
    "    'spectral_rolloff': [],\n",
    "    'energy': [],\n",
    "    'duration': [],\n",
    "    'label': []\n",
    "    }\n",
    "    \n",
    "\n",
    "    # Iterate through rows of training data and extract features\n",
    "    for row in data_frame.values:\n",
    "\n",
    "        extracted_data = row[0]  # Extracted audio data\n",
    "        label = row[1]  # Label of the audio\n",
    "        \n",
    "        # Feature extraction\n",
    "        per_25, per_50, per_75, per_90 = find_percentile_points(extracted_data)  # Percentile points    \n",
    "        mfccs, delta_mfccs, delta2_mfccs = get_mfcc_features(extracted_data)  # MFCC features\n",
    "        comprehensive_mfccs = np.concatenate((mfccs, delta_mfccs, delta2_mfccs))  # Comprehensive MFCCs    \n",
    "        comprehensive_mfccs_mean = np.mean(comprehensive_mfccs, axis=1)  # Mean of MFCC features\n",
    "        \n",
    "        sc = get_spectral_centroid(extracted_data)  # Spectral centroid        \n",
    "        spectral_bandwidth = get_spectral_bandwidth(extracted_data) # Spectral bandwidth\n",
    "        spectral_contrast = get_spectral_contrast(extracted_data)  # Spectral contrast\n",
    "        spectral_flatness = get_spectral_flatness(extracted_data)  # Spectral flatness\n",
    "        spectral_rolloff = get_spectral_rolloff(extracted_data)  # Spectral rolloff\n",
    "        energy = calculate_log_energy(extracted_data)  # Energy\n",
    "        duration = len(extracted_data) / sample_rate * 1000\n",
    "        \n",
    "        # Append extracted features to the dictionary\n",
    "        feature_dict['percentile_25'].append(per_25)\n",
    "        feature_dict['percentile_50'].append(per_50)\n",
    "        feature_dict['percentile_75'].append(per_75)\n",
    "        feature_dict['percentile_90'].append(per_90)\n",
    "        feature_dict['mfcc'].append(comprehensive_mfccs_mean)\n",
    "        feature_dict['sc'].append(sc)\n",
    "        feature_dict['spectral_bandwidth'].append(spectral_bandwidth)\n",
    "        feature_dict['spectral_contrast'].append(spectral_contrast)\n",
    "        feature_dict['spectral_flatness'].append(spectral_flatness)\n",
    "        feature_dict['spectral_rolloff'].append(spectral_rolloff)\n",
    "        feature_dict['energy'].append(energy)\n",
    "        feature_dict['duration'].append(duration)\n",
    "        feature_dict['label'].append(label)\n",
    "    \n",
    "    return feature_dict"
   ]
  },
  {
   "cell_type": "markdown",
   "id": "0a62bd3c",
   "metadata": {},
   "source": [
    "### Train Data Feature Extraction"
   ]
  },
  {
   "cell_type": "code",
   "execution_count": 1481,
   "id": "66ee9fa6",
   "metadata": {},
   "outputs": [],
   "source": [
    "# Function to remove leading and trailing zeros from a float array\n",
    "\n",
    "def remove_leading_trailing_zeros(array):\n",
    "    \n",
    "    nonzero_indices = np.where(array != 0)[0]\n",
    "    if len(nonzero_indices) == 0:\n",
    "        return np.array([])\n",
    "    \n",
    "    return array[nonzero_indices[0]:nonzero_indices[-1] + 1]"
   ]
  },
  {
   "cell_type": "code",
   "execution_count": 1482,
   "id": "41033658",
   "metadata": {
    "scrolled": true
   },
   "outputs": [
    {
     "name": "stdout",
     "output_type": "stream",
     "text": [
      "                                                  data label\n",
      "0    [0.2272727272727273, 0.2272727272727273, 0.181...   wet\n",
      "1    [0.2727272727272727, 0.2727272727272727, 0.272...   wet\n",
      "2    [0.03278688524590164, 0.03278688524590164, 0.0...   dry\n",
      "3    [0.01639344262295082, 0.01639344262295082, 0.0...   dry\n",
      "4    [0.023255813953488372, 0.023255813953488372, 0...   dry\n",
      "..                                                 ...   ...\n",
      "124  [0.14102564102564102, 0.15384615384615383, 0.1...   wet\n",
      "125  [0.05128205128205128, 0.03846153846153846, 0.0...   wet\n",
      "126  [0.16666666666666666, 0.15384615384615383, 0.1...   wet\n",
      "127  [0.01282051282051282, 0.01282051282051282, 0.0...   wet\n",
      "128  [0.02564102564102564, 0.02564102564102564, 0.0...   dry\n",
      "\n",
      "[129 rows x 2 columns]\n"
     ]
    }
   ],
   "source": [
    "# Extract Train Data\n",
    "\n",
    "# Initialize extracted train data dictionary\n",
    "extracted_train_data = {'data': [], 'label': []}\n",
    "\n",
    "# Iterate through train data and labels\n",
    "for (info, label) in zip(X_train_raw.values, y_train_raw.values):\n",
    "    \n",
    "    # Extract features and timestamps\n",
    "    data, timestamps = info[0], info[1]\n",
    "    data = remove_leading_trailing_zeros(data)\n",
    "\n",
    "    # Preprocess data\n",
    "    data = preprocess_data(data)\n",
    "    \n",
    "    # Extract coughs/others\n",
    "    for timestamp in timestamps:\n",
    "        \n",
    "        start = int(timestamp[0] * sample_rate)\n",
    "        finish = int(timestamp[1] * sample_rate)\n",
    "        \n",
    "        # Ensure start and finish are within bounds\n",
    "        start = max(0, start)\n",
    "        finish = min(len(data), finish)\n",
    "\n",
    "        # Extract data within timestamps\n",
    "        extracted_data = data[start:finish]\n",
    "        extracted_data = remove_leading_trailing_zeros(extracted_data)\n",
    "\n",
    "\n",
    "        # Append extracted data and label\n",
    "        if len(extracted_data) > 0:\n",
    "\n",
    "            extracted_train_data['data'].append(extracted_data)\n",
    "            extracted_train_data['label'].append(label)\n",
    "\n",
    "# Convert dictionary to DataFrame\n",
    "df_train_extracted = pd.DataFrame.from_dict(extracted_train_data)\n",
    "print(df_train_extracted)"
   ]
  },
  {
   "cell_type": "markdown",
   "id": "20c5b8a3",
   "metadata": {},
   "source": [
    "### Test Data Feature Extraction"
   ]
  },
  {
   "cell_type": "code",
   "execution_count": 1483,
   "id": "c8df8fc4",
   "metadata": {
    "scrolled": true
   },
   "outputs": [
    {
     "name": "stdout",
     "output_type": "stream",
     "text": [
      "                                                 data label\n",
      "0   [0.037037037037037035, 0.037037037037037035, 0...   dry\n",
      "1   [0.16666666666666666, 0.16666666666666666, 0.1...   dry\n",
      "2   [0.35185185185185186, 0.37037037037037035, 0.3...   dry\n",
      "3   [0.08695652173913043, 0.08695652173913043, 0.1...   wet\n",
      "4   [0.17391304347826086, 0.17391304347826086, 0.1...   wet\n",
      "..                                                ...   ...\n",
      "69  [0.171875, 0.171875, 0.171875, 0.171875, 0.171...   dry\n",
      "70  [0.28125, 0.265625, 0.234375, 0.21875000000000...   dry\n",
      "71  [0.3125, 0.3125, 0.328125, 0.34375, 0.359375, ...   dry\n",
      "72  [0.09375, 0.09375, 0.10937500000000001, 0.1093...   dry\n",
      "73  [0.046875, 0.046875, 0.046875, 0.046875, 0.046...   dry\n",
      "\n",
      "[74 rows x 2 columns]\n"
     ]
    }
   ],
   "source": [
    "# Extract Validation Data\n",
    "\n",
    "# Initialize extracted train data dictionary\n",
    "extracted_test_data = {'data': [], 'label': []}\n",
    "\n",
    "# Iterate through train data and labels\n",
    "for (info, label) in zip(X_test_raw.values, y_test_raw.values):\n",
    "    \n",
    "    # Extract features and timestamps\n",
    "    data, timestamps = info[0], info[1]\n",
    "    data = remove_leading_trailing_zeros(data)\n",
    "\n",
    "    # Preprocess data\n",
    "    data = preprocess_data(data)\n",
    "    \n",
    "    # Extract coughs/others\n",
    "    for timestamp in timestamps:\n",
    "        \n",
    "        start = int(timestamp[0] * sample_rate)\n",
    "        finish = int(timestamp[1] * sample_rate)\n",
    "        \n",
    "        # Ensure start and finish are within bounds\n",
    "        start = max(0, start)\n",
    "        finish = min(len(data), finish)\n",
    "\n",
    "        # Extract data within timestamps\n",
    "        extracted_data = data[start:finish]\n",
    "        extracted_data = remove_leading_trailing_zeros(extracted_data)\n",
    "        \n",
    "        # Append extracted data and label\n",
    "        if len(extracted_data) > 0:\n",
    "            \n",
    "            extracted_test_data['data'].append(extracted_data)\n",
    "            extracted_test_data['label'].append(label)\n",
    "      \n",
    "# Convert dictionary to DataFrame\n",
    "df_test_extracted = pd.DataFrame.from_dict(extracted_test_data)\n",
    "print(df_test_extracted)"
   ]
  },
  {
   "cell_type": "code",
   "execution_count": 1484,
   "id": "d3d5a777",
   "metadata": {
    "scrolled": false
   },
   "outputs": [
    {
     "name": "stderr",
     "output_type": "stream",
     "text": [
      "/Users/zulaldemirtas/anaconda3/lib/python3.11/site-packages/librosa/core/spectrum.py:257: UserWarning: n_fft=2048 is too large for input signal of length=1694\n",
      "  warnings.warn(\n"
     ]
    }
   ],
   "source": [
    "# Getting feature dictionaries of trianing and validation data\n",
    "\n",
    "Audiodata_train = get_feature_dictionary(df_train_extracted)\n",
    "Audiodata_test = get_feature_dictionary(df_test_extracted)"
   ]
  },
  {
   "cell_type": "code",
   "execution_count": 1485,
   "id": "34a3e028",
   "metadata": {},
   "outputs": [
    {
     "name": "stdout",
     "output_type": "stream",
     "text": [
      "Dry Cough Average Duration in ms:  325.39037216828484\n",
      "Wet Cough Average Duration in ms:  472.78354166666657\n"
     ]
    }
   ],
   "source": [
    "df_audio_all = pd.concat([df_train_extracted, df_test_extracted])\n",
    "\n",
    "dry_coughs = df_audio_all[df_audio_all['label'] == 'dry']\n",
    "wet_coughs = df_audio_all[df_audio_all['label'] == 'wet']\n",
    "\n",
    "dry_total_duration = 0\n",
    "wet_total_duration = 0\n",
    "\n",
    "for data in dry_coughs['data']:\n",
    "    \n",
    "    dry_total_duration += len(data) / sample_rate\n",
    "    \n",
    "for data in wet_coughs['data']:\n",
    "    \n",
    "    wet_total_duration += len(data) / sample_rate\n",
    "    \n",
    "dry_cough_duration = dry_total_duration / len(dry_coughs['label']) * 1000 # in ms\n",
    "wet_cough_duration = wet_total_duration / len(wet_coughs['label']) * 1000 # in ms\n",
    "\n",
    "print(\"Dry Cough Average Duration in ms: \", dry_cough_duration)\n",
    "print(\"Wet Cough Average Duration in ms: \", wet_cough_duration)"
   ]
  },
  {
   "cell_type": "markdown",
   "id": "6ecfecef",
   "metadata": {},
   "source": [
    "## Train, Test and Validation Data"
   ]
  },
  {
   "cell_type": "code",
   "execution_count": 1486,
   "id": "06a00034",
   "metadata": {
    "scrolled": false
   },
   "outputs": [
    {
     "data": {
      "image/png": "[encoded data removed]",
      "text/plain": [
       "<Figure size 640x480 with 1 Axes>"
      ]
     },
     "metadata": {},
     "output_type": "display_data"
    },
    {
     "name": "stdout",
     "output_type": "stream",
     "text": [
      "   percentile_25  percentile_50  percentile_75  percentile_90  \\\n",
      "0       0.000000        0.00000            0.0            0.0   \n",
      "1     949.995961    16650.13329            0.0            0.0   \n",
      "2    4645.492095        0.00000            0.0            0.0   \n",
      "3   14114.253666        0.00000            0.0            0.0   \n",
      "4     779.705204        0.00000            0.0            0.0   \n",
      "\n",
      "                                                mfcc  \\\n",
      "0  [-145.96855730974713, 108.59623998336399, 6.10...   \n",
      "1  [-150.80103641657914, 117.09144960731905, 7.96...   \n",
      "2  [-254.5903551362074, 119.49545977284185, 10.14...   \n",
      "3  [-228.13938712981692, 121.85187717990262, 8.72...   \n",
      "4  [-188.69766203492023, 129.42832596170427, 29.2...   \n",
      "\n",
      "                                                  sc  \\\n",
      "0  [4352.5329710973465, 4176.739311749849, 4390.8...   \n",
      "1  [3723.2948642447454, 3329.962688684804, 3940.8...   \n",
      "2  [3782.5697324336656, 3663.5607555045653, 3908....   \n",
      "3  [3607.2781864656736, 3194.9074812955396, 3692....   \n",
      "4  [3357.830925949985, 2753.9520216132505, 3627.1...   \n",
      "\n",
      "                                  spectral_bandwidth  \\\n",
      "0  [2826.9398184562524, 2821.2209841586646, 2828....   \n",
      "1  [2587.3372345821917, 2600.881098628591, 2626.4...   \n",
      "2  [2624.4566963147886, 2694.0540591262898, 2645....   \n",
      "3  [2622.281721754284, 2534.0028974356255, 2631.0...   \n",
      "4  [2471.584972388473, 2432.6458688046846, 2502.7...   \n",
      "\n",
      "                                   spectral_contrast  \\\n",
      "0  [18.660430399248263, 18.49143696674488, 18.764...   \n",
      "1  [18.100544123592677, 18.633421116479823, 18.65...   \n",
      "2  [15.941162440973898, 16.96620691925485, 16.703...   \n",
      "3  [17.891778779633654, 17.55432325683382, 18.102...   \n",
      "4  [17.278006059376782, 16.996488641695336, 17.65...   \n",
      "\n",
      "                                   spectral_flatness  \\\n",
      "0  [0.008718081503482165, 0.0053193087222434465, ...   \n",
      "1  [0.032868369264543944, 0.002377212293636881, 0...   \n",
      "2  [0.014501811031347091, 0.0035791056052609516, ...   \n",
      "3  [0.0043276910155731685, 0.0021018792284343887,...   \n",
      "4  [0.00900143106378148, 0.0014987665819560293, 0...   \n",
      "\n",
      "                                    spectral_rolloff    energy    duration  \\\n",
      "0  [5163.662109375, 5006.4697265625, 5194.0154851...  5.356382  207.354167   \n",
      "1  [3927.6123046875, 3606.8115234375, 4243.896852...  7.315015  515.791667   \n",
      "2  [4340.863037109375, 4365.85693359375, 4511.784...  5.132210  292.541667   \n",
      "3  [3817.40625, 3154.6142578125, 4038.73350326016...  4.659774  260.020833   \n",
      "4  [3638.2831280048076, 2723.9501953125, 4007.391...  6.947944  415.541667   \n",
      "\n",
      "  label  \n",
      "0   wet  \n",
      "1   wet  \n",
      "2   dry  \n",
      "3   dry  \n",
      "4   dry  \n"
     ]
    }
   ],
   "source": [
    "# Train Data \n",
    "\n",
    "df_train = pd.DataFrame.from_dict(Audiodata_train) \n",
    "        \n",
    "# Create train data\n",
    "\n",
    "X_train = []\n",
    "y_train = []\n",
    "\n",
    "for row in df_train.values:\n",
    "    \n",
    "    flattened_row = []\n",
    "    for item in row[:-1]:\n",
    "        if isinstance(item, np.ndarray):\n",
    "            flattened_row.extend(item.flatten())\n",
    "        else:\n",
    "            flattened_row.append(item)\n",
    "        \n",
    "    X_train.append(flattened_row)\n",
    "    y_train.append(row[-1])\n",
    "    \n",
    "label_encoder = LabelEncoder()\n",
    "y_train = label_encoder.fit_transform(y_train)\n",
    "\n",
    "\n",
    "# Data Distribution\n",
    "\n",
    "label_counts = df_train['label'].value_counts()\n",
    "\n",
    "fig, ax = plt.subplots()\n",
    "ax.pie(label_counts, labels=label_counts.index, autopct='%1.1f%%')\n",
    "plt.title(\"Train Data Distribution\")\n",
    "plt.show()\n",
    "print(df_train.head())"
   ]
  },
  {
   "cell_type": "code",
   "execution_count": 1487,
   "id": "e5861e7b",
   "metadata": {
    "scrolled": false
   },
   "outputs": [
    {
     "data": {
      "image/png": "[encoded data removed]",
      "text/plain": [
       "<Figure size 640x480 with 1 Axes>"
      ]
     },
     "metadata": {},
     "output_type": "display_data"
    },
    {
     "name": "stdout",
     "output_type": "stream",
     "text": [
      "   percentile_25  percentile_50  percentile_75  percentile_90  \\\n",
      "0     699.661017   18500.338983            0.0            0.0   \n",
      "1     989.361702       0.000000            0.0            0.0   \n",
      "2     654.694249    4939.304387            0.0            0.0   \n",
      "3    1037.668471   14099.758092            0.0            0.0   \n",
      "4    1036.117095   22806.741858            0.0            0.0   \n",
      "\n",
      "                                                mfcc  \\\n",
      "0  [-176.63086887071304, 143.75463545147724, 0.02...   \n",
      "1  [-241.58534565181805, 121.50863430705137, 4.69...   \n",
      "2  [-189.77975904168687, 137.27095061045185, -1.7...   \n",
      "3  [-225.1465306236848, 108.51602296408056, 3.680...   \n",
      "4  [-273.20396853997636, 96.54968469034907, 0.645...   \n",
      "\n",
      "                                                  sc  \\\n",
      "0  [2860.991558834156, 2019.0708595546444, 3274.2...   \n",
      "1  [3990.022503012832, 4195.606480095161, 4288.53...   \n",
      "2  [3243.0967581752784, 2445.161330788851, 3589.0...   \n",
      "3  [4440.426458921597, 4155.882729830572, 4578.69...   \n",
      "4  [4863.465456253837, 4832.949288877446, 5092.94...   \n",
      "\n",
      "                                  spectral_bandwidth  \\\n",
      "0  [2149.55574844246, 1914.4263353297317, 2212.94...   \n",
      "1  [2584.7928786879834, 2800.746075605256, 2622.5...   \n",
      "2  [2300.608851444804, 2183.155618321831, 2362.00...   \n",
      "3  [2797.1792412760483, 2817.5880495651772, 2803....   \n",
      "4  [2791.8075316664062, 2925.688440502011, 2828.3...   \n",
      "\n",
      "                                   spectral_contrast  \\\n",
      "0  [18.35570646018283, 18.4091159786715, 18.81411...   \n",
      "1  [18.360499665710545, 18.73729056526986, 19.445...   \n",
      "2  [18.59140895335677, 17.883281497303013, 18.868...   \n",
      "3  [19.410608140844797, 19.78606010128742, 19.873...   \n",
      "4  [16.84777164824694, 17.749504645882347, 17.674...   \n",
      "\n",
      "                                   spectral_flatness  \\\n",
      "0  [0.011344260556786806, 0.0005145282266962099, ...   \n",
      "1  [0.024771193795236342, 0.005999740420874917, 0...   \n",
      "2  [0.01059066135532499, 0.0010845141338431446, 0...   \n",
      "3  [0.021117805383049776, 0.004493972860367674, 0...   \n",
      "4  [0.06803535199374133, 0.007721984108798804, 0....   \n",
      "\n",
      "                                    spectral_rolloff    energy    duration  \\\n",
      "0  [2733.5714137300533, 1701.123046875, 3414.0791...  7.621531  491.666667   \n",
      "1  [4300.74462890625, 5017.236328125, 4732.782362...  6.243761  438.666667   \n",
      "2  [3308.245380108173, 2013.3544921875, 3863.6143...  7.462306  549.875000   \n",
      "3  [5029.90291819853, 5071.0693359375, 5177.62723...  5.199335  542.562500   \n",
      "4  [5407.582903922872, 5717.0654296875, 5602.8700...  4.639174  493.187500   \n",
      "\n",
      "  label  \n",
      "0   dry  \n",
      "1   dry  \n",
      "2   dry  \n",
      "3   wet  \n",
      "4   wet  \n"
     ]
    }
   ],
   "source": [
    "# Test Data \n",
    "\n",
    "df_test = pd.DataFrame.from_dict(Audiodata_test) \n",
    "        \n",
    "# Create test data\n",
    "\n",
    "X_test = []\n",
    "y_test = []\n",
    "\n",
    "for row in df_test.values:\n",
    "    \n",
    "    flattened_row = []\n",
    "    for item in row[:-1]:\n",
    "        if isinstance(item, np.ndarray):\n",
    "            flattened_row.extend(item.flatten())\n",
    "            \n",
    "        else:\n",
    "            flattened_row.append(item)\n",
    "    \n",
    "    X_test.append(flattened_row)\n",
    "    y_test.append(row[-1])\n",
    "    \n",
    "label_encoder = LabelEncoder()\n",
    "y_test = label_encoder.fit_transform(y_test)\n",
    "\n",
    "# Data Distribution\n",
    "\n",
    "label_counts = df_test['label'].value_counts()\n",
    "\n",
    "fig, ax = plt.subplots()\n",
    "ax.pie(label_counts, labels=label_counts.index, autopct='%1.1f%%')\n",
    "plt.title(\"Test Data Distribution\")\n",
    "plt.show()\n",
    "print(df_test.head())"
   ]
  },
  {
   "cell_type": "markdown",
   "id": "0d754103",
   "metadata": {},
   "source": [
    "## Cross Validation"
   ]
  },
  {
   "cell_type": "code",
   "execution_count": 1488,
   "id": "50260047",
   "metadata": {},
   "outputs": [],
   "source": [
    "kf = KFold(n_splits=5, shuffle=False)"
   ]
  },
  {
   "cell_type": "code",
   "execution_count": 1489,
   "id": "7ce53840",
   "metadata": {},
   "outputs": [],
   "source": [
    "model_list = [SVC(), KNeighborsClassifier(), RandomForestClassifier(random_state=0), GaussianNB()]\n",
    "optimized_models = []"
   ]
  },
  {
   "cell_type": "code",
   "execution_count": 1490,
   "id": "db5dd860",
   "metadata": {},
   "outputs": [],
   "source": [
    "model_hyperparameters = {\n",
    "\n",
    "    'svc_hyperparameters': {\n",
    "        \n",
    "        'C': [0.5, 1, 10, 100],\n",
    "        'gamma': ['scale', 1, 0.1, 0.01, 0.001, 0.0001],\n",
    "        'kernel': ['rbf']\n",
    "        \n",
    "    },\n",
    "    \n",
    "    'KNN_hyperparameters': {\n",
    "        \n",
    "        'n_neighbors': list(range(3, int(len(X_train) * 0.65),2)),\n",
    "        'weights': ['uniform', 'distance']\n",
    "\n",
    "    },\n",
    "    \n",
    "    'random_forest_hyperparameters': {\n",
    "        \n",
    "        'n_estimators': [10, 20, 50, 100]\n",
    "    },\n",
    "    \n",
    "    'naive_bayes_hyperparameters': {\n",
    "    \n",
    "        'var_smoothing': np.logspace(0,-9, num=100)\n",
    "    },\n",
    "        \n",
    "}"
   ]
  },
  {
   "cell_type": "code",
   "execution_count": 1491,
   "id": "138974ac",
   "metadata": {},
   "outputs": [],
   "source": [
    "def compare_models_cross_validation(model_list, X_train_data, y_train_data):\n",
    "    \"\"\"\n",
    "    Compare different models using cross-validation and print their F1 scores.\n",
    "    \n",
    "    Args:\n",
    "    - model_list (list): List of models to compare.\n",
    "    - X_train_data (array-like): Training data features.\n",
    "    - y_train_data (array-like): Training data labels.\n",
    "    \"\"\"\n",
    "    for model in model_list:\n",
    "        cross_val_accuracies = cross_val_score(model, X_train_data, y_train_data, cv=5, scoring='f1')\n",
    "        mean_accuracy = np.mean(cross_val_accuracies)\n",
    "        \n",
    "        print('\\033[1m' + str(model) + '\\033[0m') \n",
    "        print()\n",
    "        \n",
    "        print(\"Cross Validation F1 Scores: \" + str(cross_val_accuracies))\n",
    "        print(\"Mean F1 Score: {}\".format(mean_accuracy))\n",
    "        \n",
    "        print()"
   ]
  },
  {
   "cell_type": "code",
   "execution_count": 1492,
   "id": "d37ead00",
   "metadata": {},
   "outputs": [],
   "source": [
    "def model_selection(model_list, model_hyperparameters, X_train_data, y_train_data):\n",
    "    \n",
    "    results = []\n",
    "    optimized_models = []\n",
    "    model_keys = list(model_hyperparameters.keys())\n",
    "    \n",
    "    for i in range(len(model_list)):\n",
    "        \n",
    "        key = model_keys[i]\n",
    "        params = model_hyperparameters[key]\n",
    "        \n",
    "        classifier = GridSearchCV(model_list[i], params, cv=5, scoring='f1')\n",
    "        classifier.fit(X_train_data, y_train_data)\n",
    "        \n",
    "        results.append({\n",
    "            'model used': model_list[i],\n",
    "            'highest score': classifier.best_score_,\n",
    "            'best hyperparameters': classifier.best_params_,\n",
    "            \n",
    "        })\n",
    "\n",
    "    \n",
    "    result_dataframe = pd.DataFrame(results, columns = ['model used', 'highest score', 'best hyperparameters']) \n",
    "    \n",
    "    for model_info in result_dataframe.values:\n",
    "    \n",
    "        model = model_info[0]\n",
    "        best_params = model_info[2]\n",
    "        print(best_params)\n",
    "        print()\n",
    "        model.set_params(**best_params)\n",
    "\n",
    "        optimized_models.append(model)\n",
    "    \n",
    "    return optimized_models"
   ]
  },
  {
   "cell_type": "code",
   "execution_count": 1493,
   "id": "f8b5c405",
   "metadata": {
    "scrolled": false
   },
   "outputs": [
    {
     "name": "stdout",
     "output_type": "stream",
     "text": [
      "{'C': 100, 'gamma': 'scale', 'kernel': 'rbf'}\n",
      "\n",
      "{'n_neighbors': 11, 'weights': 'distance'}\n",
      "\n",
      "{'n_estimators': 50}\n",
      "\n",
      "{'var_smoothing': 2.848035868435805e-09}\n",
      "\n",
      "\u001b[1mSVC(C=100)\u001b[0m\n",
      "\n",
      "Cross Validation F1 Scores: [0.35294118 0.34782609 0.44444444 0.63636364 0.55555556]\n",
      "Mean F1 Score: 0.4674261799581492\n",
      "\n",
      "\u001b[1mKNeighborsClassifier(n_neighbors=11, weights='distance')\u001b[0m\n",
      "\n",
      "Cross Validation F1 Scores: [0.4        0.47058824 0.35294118 0.75       0.63157895]\n",
      "Mean F1 Score: 0.5210216718266254\n",
      "\n",
      "\u001b[1mRandomForestClassifier(n_estimators=50, random_state=0)\u001b[0m\n",
      "\n",
      "Cross Validation F1 Scores: [0.42105263 0.31578947 0.66666667 0.69565217 0.7       ]\n",
      "Mean F1 Score: 0.5598321891685736\n",
      "\n",
      "\u001b[1mGaussianNB(var_smoothing=2.848035868435805e-09)\u001b[0m\n",
      "\n",
      "Cross Validation F1 Scores: [0.46153846 0.25       0.58333333 0.66666667 0.5625    ]\n",
      "Mean F1 Score: 0.5048076923076923\n",
      "\n"
     ]
    }
   ],
   "source": [
    "optimized_models = model_selection(model_list, model_hyperparameters, X_train, y_train)\n",
    "compare_models_cross_validation(optimized_models, X_train, y_train)"
   ]
  },
  {
   "cell_type": "markdown",
   "id": "c438bd96",
   "metadata": {},
   "source": [
    "## Prediction on Test Set"
   ]
  },
  {
   "cell_type": "code",
   "execution_count": 1494,
   "id": "5da7c990",
   "metadata": {
    "scrolled": false
   },
   "outputs": [
    {
     "name": "stdout",
     "output_type": "stream",
     "text": [
      "\n",
      "\u001b[1mSVC(C=100)\u001b[0m\n",
      "--------------------------------------------\n",
      "Confusion Matrix: \n",
      " [[23  7]\n",
      " [33 11]]\n",
      "\n",
      "F1 Score: 0.3548387096774194\n",
      "Recall Score: 0.25\n",
      "\n"
     ]
    },
    {
     "data": {
      "image/png": "[encoded data removed]",
      "text/plain": [
       "<Figure size 200x200 with 2 Axes>"
      ]
     },
     "metadata": {},
     "output_type": "display_data"
    },
    {
     "name": "stdout",
     "output_type": "stream",
     "text": [
      "\n",
      "\u001b[1mKNeighborsClassifier(n_neighbors=11, weights='distance')\u001b[0m\n",
      "--------------------------------------------\n",
      "Confusion Matrix: \n",
      " [[17 13]\n",
      " [28 16]]\n",
      "\n",
      "F1 Score: 0.4383561643835616\n",
      "Recall Score: 0.36363636363636365\n",
      "\n"
     ]
    },
    {
     "data": {
      "image/png": "[encoded data removed]",
      "text/plain": [
       "<Figure size 200x200 with 2 Axes>"
      ]
     },
     "metadata": {},
     "output_type": "display_data"
    },
    {
     "name": "stdout",
     "output_type": "stream",
     "text": [
      "\n",
      "\u001b[1mRandomForestClassifier(n_estimators=50, random_state=0)\u001b[0m\n",
      "--------------------------------------------\n",
      "Confusion Matrix: \n",
      " [[22  8]\n",
      " [25 19]]\n",
      "\n",
      "F1 Score: 0.5352112676056338\n",
      "Recall Score: 0.4318181818181818\n",
      "\n"
     ]
    },
    {
     "data": {
      "image/png": "[encoded data removed]",
      "text/plain": [
       "<Figure size 200x200 with 2 Axes>"
      ]
     },
     "metadata": {},
     "output_type": "display_data"
    },
    {
     "name": "stdout",
     "output_type": "stream",
     "text": [
      "\n",
      "\u001b[1mGaussianNB(var_smoothing=2.848035868435805e-09)\u001b[0m\n",
      "--------------------------------------------\n",
      "Confusion Matrix: \n",
      " [[16 14]\n",
      " [17 27]]\n",
      "\n",
      "F1 Score: 0.6352941176470588\n",
      "Recall Score: 0.6136363636363636\n",
      "\n"
     ]
    },
    {
     "data": {
      "image/png": "[encoded data removed]",
      "text/plain": [
       "<Figure size 200x200 with 2 Axes>"
      ]
     },
     "metadata": {},
     "output_type": "display_data"
    }
   ],
   "source": [
    "for model in optimized_models:\n",
    "    \n",
    "    model.fit(X_train, y_train)\n",
    "    y_pred = model.predict(X_test)\n",
    "    \n",
    "    cm = confusion_matrix(y_test, y_pred)\n",
    "    f1 = f1_score(y_test, y_pred)\n",
    "    recall = recall_score(y_test, y_pred)\n",
    "    \n",
    "    print()\n",
    "    print('\\033[1m' + str(model) + '\\033[0m') \n",
    "    print(\"--------------------------------------------\")\n",
    "    print(\"Confusion Matrix: \\n {}\".format(cm))\n",
    "    print(\"\\nF1 Score: {}\".format(f1))\n",
    "    print(\"Recall Score: {}\\n\".format(recall))\n",
    "    \n",
    "    display_labels = ['Dry', 'Wet']\n",
    "    disp = ConfusionMatrixDisplay.from_predictions(y_test, y_pred, display_labels=display_labels)\n",
    "    fig = disp.figure_\n",
    "    fig.set_figwidth(2)\n",
    "    fig.set_figheight(2) \n",
    "    plt.show()"
   ]
  },
  {
   "cell_type": "markdown",
   "id": "38781933",
   "metadata": {},
   "source": [
    "## Features"
   ]
  },
  {
   "cell_type": "code",
   "execution_count": 1495,
   "id": "4dd52ab3",
   "metadata": {
    "scrolled": true
   },
   "outputs": [
    {
     "name": "stdout",
     "output_type": "stream",
     "text": [
      "Index(['percentile_25', 'percentile_50', 'percentile_75', 'percentile_90',\n",
      "       'mfcc', 'sc', 'spectral_bandwidth', 'spectral_contrast',\n",
      "       'spectral_flatness', 'spectral_rolloff', 'energy', 'duration', 'label'],\n",
      "      dtype='object')\n",
      "\u001b[1mFeatures and Mutual Info Scores\n",
      "\u001b[0m\n",
      "percentile_25 [0.090649] \n",
      "\n",
      "percentile_50 [0.04148213] \n",
      "\n",
      "percentile_75 [0.08171037] \n",
      "\n",
      "percentile_90 [0.00533805] \n",
      "\n",
      "energy [0.00914925] \n",
      "\n",
      "duration [0.13786339] \n",
      "\n",
      "mfcc 1 [0] \n",
      "\n",
      "mfcc 2 [0] \n",
      "\n",
      "mfcc 3 [0] \n",
      "\n",
      "mfcc 4 [0.00766636] \n",
      "\n",
      "mfcc 5 [0] \n",
      "\n",
      "mfcc 6 [0] \n",
      "\n",
      "mfcc 7 [0.00825053] \n",
      "\n",
      "mfcc 8 [0] \n",
      "\n",
      "mfcc 9 [0] \n",
      "\n",
      "mfcc 10 [0.0355765] \n",
      "\n",
      "mfcc 11 [0.00131101] \n",
      "\n",
      "mfcc 12 [0.04369412] \n",
      "\n",
      "mfcc 13 [0] \n",
      "\n",
      "mfcc 14 [0.02268056] \n",
      "\n",
      "mfcc 15 [0.05484178] \n",
      "\n",
      "mfcc 16 [0.04985914] \n",
      "\n",
      "mfcc 17 [0] \n",
      "\n",
      "mfcc 18 [0] \n",
      "\n",
      "mfcc 19 [0.00128332] \n",
      "\n",
      "mfcc 20 [0] \n",
      "\n",
      "mfcc 21 [0] \n",
      "\n",
      "mfcc 22 [0.03474901] \n",
      "\n",
      "mfcc 23 [0.09956224] \n",
      "\n",
      "mfcc 24 [0.03481929] \n",
      "\n",
      "mfcc 25 [0.02249049] \n",
      "\n",
      "mfcc 26 [0.02321401] \n",
      "\n",
      "mfcc 27 [0.0328537] \n",
      "\n",
      "mfcc 28 [0.00425523] \n",
      "\n",
      "mfcc 29 [0] \n",
      "\n",
      "mfcc 30 [0] \n",
      "\n",
      "mfcc 31 [0] \n",
      "\n",
      "mfcc 32 [0] \n",
      "\n",
      "mfcc 33 [0.04601589] \n",
      "\n",
      "mfcc 34 [0] \n",
      "\n",
      "mfcc 35 [0.02394372] \n",
      "\n",
      "mfcc 36 [0.02780247] \n",
      "\n",
      "mfcc 37 [0] \n",
      "\n",
      "mfcc 38 [0.09016969] \n",
      "\n",
      "mfcc 39 [0.06318825] \n",
      "\n"
     ]
    }
   ],
   "source": [
    "columns = df_train.columns\n",
    "print(columns)\n",
    "print(\"\\033[1mFeatures and Mutual Info Scores\\n\\033[0m\") \n",
    "\n",
    "\n",
    "for feature_name in df_train.columns:\n",
    "    \n",
    "    try: \n",
    "        feature_array = np.array(df_train[feature_name]).reshape(-1,1)\n",
    "        mutual_info_score = mutual_info_classif(feature_array, y_train)\n",
    "\n",
    "        print(feature_name, mutual_info_score, \"\\n\")\n",
    "    \n",
    "    except:\n",
    "        continue\n",
    "\n",
    "\n",
    "mfcc_values = np.asarray(df_train['mfcc'])\n",
    "mfcc_values = np.vstack((mfcc_values)).T\n",
    "\n",
    "for i, mfcc_array in enumerate(mfcc_values):\n",
    "    \n",
    "    mfcc_array = mfcc_array.reshape(-1,1)\n",
    "    mutual_info_score = mutual_info_classif(mfcc_array, y_train)\n",
    "\n",
    "    print(f\"mfcc {i+1} {mutual_info_score} \\n\")"
   ]
  }
 ],
 "metadata": {
  "kernelspec": {
   "display_name": "Python 3 (ipykernel)",
   "language": "python",
   "name": "python3"
  },
  "language_info": {
   "codemirror_mode": {
    "name": "ipython",
    "version": 3
   },
   "file_extension": ".py",
   "mimetype": "text/x-python",
   "name": "python",
   "nbconvert_exporter": "python",
   "pygments_lexer": "ipython3",
   "version": "3.11.4"
  }
 },
 "nbformat": 4,
 "nbformat_minor": 5
}
