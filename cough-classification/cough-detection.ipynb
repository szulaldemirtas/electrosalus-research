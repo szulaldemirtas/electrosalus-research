{
 "cells": [
  {
   "cell_type": "code",
   "execution_count": 43,
   "id": "1b889b55",
   "metadata": {},
   "outputs": [],
   "source": [
    "import numpy as np\n",
    "import pandas as pd\n",
    "import matplotlib.pyplot as plt\n",
    "from IPython.display import Audio\n",
    "import scipy\n",
    "from scipy.signal import find_peaks\n",
    "from scipy.signal import butter, sosfilt, sosfreqz\n",
    "from scipy.integrate import simps\n",
    "from scipy.io.wavfile import write\n",
    "import bisect\n",
    "import sklearn\n",
    "from sklearn.model_selection import train_test_split\n",
    "from sklearn.neighbors import KNeighborsClassifier\n",
    "from sklearn.linear_model import LogisticRegression\n",
    "from sklearn.svm import SVC\n",
    "from sklearn.ensemble import RandomForestClassifier\n",
    "from sklearn.naive_bayes import GaussianNB\n",
    "from sklearn.metrics import confusion_matrix, recall_score, precision_score, f1_score, accuracy_score\n",
    "from scipy.fftpack import dct\n",
    "from sklearn.model_selection import GridSearchCV\n",
    "from sklearn.model_selection import cross_val_score\n",
    "from sklearn.model_selection import KFold\n",
    "from sklearn.decomposition import PCA\n",
    "from sklearn.metrics import ConfusionMatrixDisplay\n",
    "from sklearn.metrics import make_scorer, f1_score\n",
    "from sklearn import preprocessing\n",
    "from sklearn.preprocessing import LabelEncoder\n",
    "from sklearn.preprocessing import scale\n",
    "from sklearn.preprocessing import StandardScaler\n",
    "scale = StandardScaler()\n",
    "import sounddevice as sd\n",
    "import wavio as wv\n",
    "from datetime import datetime\n",
    "import threading\n",
    "import time\n",
    "from time import sleep\n",
    "from statistics import stdev\n",
    "from sklearn.datasets import make_classification\n",
    "from sklearn.feature_selection import mutual_info_classif"
   ]
  },
  {
   "cell_type": "markdown",
   "id": "a48b6d18",
   "metadata": {},
   "source": [
    "# Data Preparation"
   ]
  },
  {
   "cell_type": "markdown",
   "id": "a13b23a3",
   "metadata": {},
   "source": [
    "## Data Loading"
   ]
  },
  {
   "cell_type": "code",
   "execution_count": 44,
   "id": "b587eb74",
   "metadata": {},
   "outputs": [],
   "source": [
    "# Extracts timestamps from a .txt file\n",
    "# Each line in the file contains a start and finish time separated by a tab.\n",
    "\n",
    "def get_real_timestamps(audio_timestamp_file):\n",
    "    \n",
    "    \"\"\"\n",
    "    Parses a .txt file containing timestamp information.\n",
    "    \n",
    "    Parameters:\n",
    "        audio_timestamp_file (str): Path to the .txt file.\n",
    "    \n",
    "    Returns:\n",
    "        list: List of tuples, each containing start and finish times.\n",
    "    \"\"\"\n",
    "    \n",
    "    timestamps = []\n",
    "\n",
    "    with open(audio_timestamp_file, \"r\") as f:\n",
    "        for line in f:\n",
    "            line = line.strip()\n",
    "            if line:\n",
    "                start, end = map(float, line.split(\"\\t\"))\n",
    "                timestamps.append((start, end))\n",
    "\n",
    "    return timestamps"
   ]
  },
  {
   "cell_type": "code",
   "execution_count": 45,
   "id": "63f25d28",
   "metadata": {},
   "outputs": [],
   "source": [
    "# Function to load audio data along with corresponding timestamps and labels.\n",
    "def load_data(audio_dir, timestamp_dir, label, sr=48000):\n",
    "    \n",
    "    \"\"\"\n",
    "    Loads audio data from WAV files along with corresponding timestamps and labels.\n",
    "\n",
    "    Parameters:\n",
    "        audio_dir (str): Directory containing audio WAV files.\n",
    "        timestamp_dir (str): Directory containing timestamp text files.\n",
    "        label (str): Label to assign to the loaded data.\n",
    "        sr (int): Sample rate of the audio files (default is 48000).\n",
    "\n",
    "    Returns:\n",
    "        tuple: A tuple containing lists of loaded audio data, timestamps, and labels.\n",
    "    \"\"\"\n",
    "    \n",
    "    audio_files = [file for file in os.listdir(audio_dir) if file.endswith('.wav')]\n",
    "    timestamp_files = [file for file in os.listdir(timestamp_dir) if file.endswith('.txt')]\n",
    "    \n",
    "    \n",
    "    audios = []\n",
    "    timestamps = []\n",
    "    labels = []\n",
    "    \n",
    "    for audio_file in audio_files:\n",
    "    \n",
    "        try:\n",
    "            \n",
    "            base_name = os.path.splitext(audio_file)[0]\n",
    "            timestamp_file = base_name + '-label.txt'\n",
    "            \n",
    "            if timestamp_file not in timestamp_files:\n",
    "                raise ValueError(f\"No corresponding timestamp file found for {audio_file}\")\n",
    "                \n",
    "            audio_path = os.path.join(audio_dir, audio_file)\n",
    "            timestamp_path = os.path.join(timestamp_dir, timestamp_file)\n",
    "            \n",
    "            # Adding timestamps to the list\n",
    "            real_timestamps = get_real_timestamps(timestamp_path)\n",
    "\n",
    "            # Loading audio file\n",
    "            data, sample_rate = librosa.load(audio_path, sr=sr, mono=True)\n",
    "            data = librosa.resample(data, orig_sr=sample_rate, target_sr=sr)\n",
    "\n",
    "            audios.append(data)\n",
    "            timestamps.append(real_timestamps)\n",
    "            labels.append(label)\n",
    "\n",
    "        except Exception as e:\n",
    "            print(f\"Error processing {audio_file}: {e}\")\n",
    "            continue\n",
    "\n",
    "    \n",
    "    return audios, timestamps, labels"
   ]
  },
  {
   "cell_type": "code",
   "execution_count": 46,
   "id": "3571ac70",
   "metadata": {
    "scrolled": true
   },
   "outputs": [],
   "source": [
    "# Initialize an empty dictionary to store audio data along with timestamps and labels\n",
    "audio_data = {'audio': [], 'timestamps': [], 'label': []}\n",
    "\n",
    "# Define the sample rate for the audio data\n",
    "sample_rate = 48000\n",
    "\n",
    "# Load cough and non-cough audio data along with their timestamps and labels\n",
    "cough_data, cough_timestamps, cough_labels = load_data('../recordings-and-timestamps/audio-recordings/cough-recordings/', '../recordings-and-timestamps/audio-timestamps/cough-timestamps/', 'cough')\n",
    "other_data, other_timestamps, other_labels = load_data('../recordings-and-timestamps/audio-recordings/other-recordings/', '../recordings-and-timestamps/audio-timestamps/other-timestamps/', 'other')\n",
    "cough_data_internet, cough_timestamps_internet, cough_labels_internet = load_data('../recordings-and-timestamps/audio-recordings/cough-recordings-internet/', '../recordings-and-timestamps/audio-timestamps/cough-timestamps-internet/', 'cough')\n",
    "other_data_internet, other_timestamps_internet, other_labels_internet = load_data('../recordings-and-timestamps/audio-recordings/other-recordings-internet/', '../recordings-and-timestamps/audio-timestamps/other-timestamps-internet/', 'other')\n",
    "\n",
    "# Append own data (cough and non-cough) to the audio_data dictionary\n",
    "audio_data['audio'].extend(cough_data + other_data)\n",
    "audio_data['timestamps'].extend(cough_timestamps + other_timestamps)\n",
    "audio_data['label'].extend(cough_labels + other_labels)\n",
    "\n",
    "# Append data from the internet (cough and non-cough) to the audio_data dictionary\n",
    "audio_data['audio'].extend(cough_data_internet + other_data_internet)\n",
    "audio_data['timestamps'].extend(cough_timestamps_internet + other_timestamps_internet)\n",
    "audio_data['label'].extend(cough_labels_internet + other_labels_internet)"
   ]
  },
  {
   "cell_type": "markdown",
   "id": "959d08af",
   "metadata": {},
   "source": [
    "## Data Splitting"
   ]
  },
  {
   "cell_type": "code",
   "execution_count": 47,
   "id": "1ad0cc7b",
   "metadata": {
    "scrolled": false
   },
   "outputs": [
    {
     "data": {
      "image/png": "[encoded data removed]",
      "text/plain": [
       "<Figure size 640x480 with 1 Axes>"
      ]
     },
     "metadata": {},
     "output_type": "display_data"
    }
   ],
   "source": [
    "# Splitting the dataset into cough and other categories for classification.\n",
    "df_init = pd.DataFrame.from_dict(audio_data)\n",
    "\n",
    "X = df_init.iloc[:,:-1]\n",
    "y = df_init.iloc[:, -1]\n",
    "\n",
    "# Splitting cough data into train and test sets\n",
    "X_train_raw, X_test_raw, y_train_raw, y_test_raw = train_test_split(X, y, random_state=3, train_size=0.70)\n",
    "\n",
    "# Data Distribution\n",
    "\n",
    "label_counts = df_init['label'].value_counts()\n",
    "\n",
    "fig, ax = plt.subplots()\n",
    "ax.pie(label_counts, labels=label_counts.index, autopct='%1.1f%%')\n",
    "plt.title(\"Data Distribution\")\n",
    "plt.show()"
   ]
  },
  {
   "cell_type": "markdown",
   "id": "e623b1cf",
   "metadata": {},
   "source": [
    "## Data Normalization and Filtering"
   ]
  },
  {
   "cell_type": "markdown",
   "id": "d69c172e",
   "metadata": {},
   "source": [
    "### Preprocessing Functions"
   ]
  },
  {
   "cell_type": "code",
   "execution_count": 48,
   "id": "88ba4299",
   "metadata": {},
   "outputs": [],
   "source": [
    "# This function designs a Butterworth bandpass filter and applies it to the input data.\n",
    "\n",
    "def butter_bandpass(lowcut, highcut, fs, order=8):\n",
    "    \n",
    "    \"\"\"\n",
    "    Design a Butterworth bandpass filter.\n",
    "\n",
    "    Parameters:\n",
    "    - lowcut (float): The low cutoff frequency.\n",
    "    - highcut (float): The high cutoff frequency.\n",
    "    - fs (float): The sampling frequency of the signal.\n",
    "    - order (int): The order of the filter (default is 8).\n",
    "\n",
    "    Returns:\n",
    "    - sos (ndarray): Second-order sections (SOS) representation of the filter.\n",
    "    \"\"\"\n",
    "\n",
    "    nyq = 0.5 * fs\n",
    "    low = lowcut / nyq\n",
    "    high = highcut / nyq\n",
    "    sos = butter(order, [low, high], analog=False, btype='band', output='sos')\n",
    "    return sos\n",
    "\n",
    "def butter_bandpass_filter(data, lowcut, highcut, fs, order=8):\n",
    "    \n",
    "    \"\"\"\n",
    "    Apply a Butterworth bandpass filter to the input data.\n",
    "\n",
    "    Parameters:\n",
    "    - data (array_like): Input data to be filtered.\n",
    "    - lowcut (float): The low cutoff frequency.\n",
    "    - highcut (float): The high cutoff frequency.\n",
    "    - fs (float): The sampling frequency of the signal.\n",
    "    - order (int): The order of the filter (default is 8).\n",
    "\n",
    "    Returns:\n",
    "    - y (array_like): Filtered output data.\n",
    "    \"\"\"\n",
    "\n",
    "    sos = butter_bandpass(lowcut, highcut, fs, order=order)\n",
    "    y = sosfilt(sos, data)\n",
    "    return y"
   ]
  },
  {
   "cell_type": "code",
   "execution_count": 49,
   "id": "e36053ee",
   "metadata": {},
   "outputs": [],
   "source": [
    "# Function to normalize the given data\n",
    "\n",
    "def normalize_data(data):\n",
    "\n",
    "    # Find the minimum and maximum values in the data\n",
    "    data_min = np.min(data)\n",
    "    data_max = np.max(data)\n",
    "\n",
    "    # Normalize the data using min-max scaling\n",
    "    normalized_data = (data - data_min) / (data_max - data_min)\n",
    "\n",
    "    return normalized_data"
   ]
  },
  {
   "cell_type": "code",
   "execution_count": 50,
   "id": "bd4d775b",
   "metadata": {},
   "outputs": [],
   "source": [
    "def compute_moving_average(data, window_size=15):\n",
    "\n",
    "    \"\"\"\n",
    "    Computes the moving average of the input data using a specified window size.\n",
    "\n",
    "    Parameters:\n",
    "    - data (array-like): Input data to compute the moving average.\n",
    "    - window_size (int, optional): Size of the moving average window. Defaults to 15.\n",
    "\n",
    "    Returns:\n",
    "    - array: Array containing the moving averages.\n",
    "\n",
    "    Note:\n",
    "    The moving average is computed using a simple convolution with a kernel of ones.\n",
    "    \"\"\"\n",
    "    kernel = np.ones(window_size) / window_size\n",
    "    moving_averages = np.convolve(data, kernel, mode='valid')\n",
    "    moving_averages = np.round(moving_averages, 2)\n",
    "    \n",
    "    return moving_averages"
   ]
  },
  {
   "cell_type": "code",
   "execution_count": 51,
   "id": "d75b4457",
   "metadata": {},
   "outputs": [],
   "source": [
    "# Preprocesses the input data by applying a bandpass filter, computing moving average, and normalizing the data.\n",
    "def preprocess_data(data):\n",
    "    \n",
    "    \"\"\"\n",
    "    Parameters:\n",
    "    - data (ndarray): Input data to be preprocessed.\n",
    "        \n",
    "    Returns:\n",
    "    - ndarray: Preprocessed data.\n",
    "\n",
    "    Note:\n",
    "    - This function applies a bandpass filter, computes the moving average, and normalizes the data.\n",
    "    \"\"\"\n",
    "\n",
    "    # Apply bandpass filter to remove unwanted frequencies\n",
    "    filtered_data = butter_bandpass_filter(data, lowcut=1000, highcut=4000, fs=sample_rate, order=8)\n",
    "\n",
    "    # Compute moving average of the absolute values of the filtered data\n",
    "    averaged_data = compute_moving_average(np.abs(filtered_data))\n",
    "\n",
    "    # Normalize the data\n",
    "    normalized_data = normalize_data(averaged_data)\n",
    "\n",
    "    # Flatten the data\n",
    "    flattened_data = normalized_data.flatten()\n",
    "\n",
    "    return flattened_data"
   ]
  },
  {
   "cell_type": "markdown",
   "id": "06f1202e",
   "metadata": {},
   "source": [
    "### Percentile Calculation Functions"
   ]
  },
  {
   "cell_type": "code",
   "execution_count": 52,
   "id": "f76e74b4",
   "metadata": {},
   "outputs": [],
   "source": [
    "def find_percentile_points(signal):\n",
    "    \n",
    "        \"\"\"\n",
    "        Calculate the percentile points (25th, 50th, 75th, and 90th percentiles) of a signal using Fast Fourier Transform (FFT).\n",
    "\n",
    "        Parameters:\n",
    "        - signal (array_like): The input signal.\n",
    "        - sample_rate (float): The sampling rate of the signal.\n",
    "\n",
    "        Returns:\n",
    "        - tuple: A tuple containing the percentile points (25th, 50th, 75th, and 90th percentiles).\n",
    "        \n",
    "        \"\"\"\n",
    "        \n",
    "        # Calculate Fast Fourier Transform\n",
    "        X = np.fft.fft(signal)\n",
    "        X_mag = np.abs(X) / len(signal)\n",
    "        freqs = np.fft.fftfreq(len(signal), d=1/sample_rate)\n",
    "\n",
    "        # Consider only positive frequencies\n",
    "        positive_freq_indices = np.where(freqs >= 0)\n",
    "        freqs = freqs[positive_freq_indices]\n",
    "        X_mag = X_mag[positive_freq_indices]\n",
    "\n",
    "        # Calculate area under curve\n",
    "        auc = simps(X_mag, freqs)\n",
    "\n",
    "        # Define percentiles\n",
    "        per_25 = auc * 0.25\n",
    "        per_50 = auc * 0.50\n",
    "        per_75 = auc * 0.75\n",
    "        per_90 = auc * 0.90\n",
    "\n",
    "        # Calculate cumulative area\n",
    "        cumulative_auc = np.cumsum(X_mag)\n",
    "\n",
    "        # Find indices for each percentile\n",
    "        point_1 = np.argmax(cumulative_auc >= per_25)\n",
    "        point_2 = np.argmax(cumulative_auc >= per_50)\n",
    "        point_3 = np.argmax(cumulative_auc >= per_75)\n",
    "        point_4 = np.argmax(cumulative_auc >= per_90)\n",
    "\n",
    "        # Retrieve frequency points corresponding to percentiles\n",
    "        per_25_result = freqs[point_1]\n",
    "        per_50_result = freqs[point_2]\n",
    "        per_75_result = freqs[point_3]\n",
    "        per_90_result = freqs[point_4]\n",
    "\n",
    "        return per_25_result, per_50_result, per_75_result, per_90_result"
   ]
  },
  {
   "cell_type": "markdown",
   "id": "93112b56",
   "metadata": {},
   "source": [
    "### MFCC Calculation Functions"
   ]
  },
  {
   "cell_type": "code",
   "execution_count": 53,
   "id": "268198e8",
   "metadata": {},
   "outputs": [],
   "source": [
    "def get_mfcc_features(signal, sample_rate=48000, n_mfcc=13, delta_width=3):\n",
    "    \"\"\"\n",
    "    Compute Mel-Frequency Cepstral Coefficients (MFCCs) and their first and second derivatives.\n",
    "\n",
    "    Parameters:\n",
    "    - signal (ndarray): Input audio signal.\n",
    "    - sample_rate (int): Sampling rate of the input signal.\n",
    "    - n_mfcc (int): Number of MFCC coefficients to compute.\n",
    "    - delta_width (int): Width parameter for computing delta features.\n",
    "\n",
    "    Returns:\n",
    "    - tuple: A tuple containing the MFCCs, first-order derivatives, and second-order derivatives.\n",
    "    \"\"\"\n",
    "\n",
    "    # Original MFCCs\n",
    "    mfccs = librosa.feature.mfcc(y=signal, sr=sample_rate, n_mfcc=n_mfcc)\n",
    "\n",
    "    # First derivative of MFCCs\n",
    "    delta_mfccs = librosa.feature.delta(mfccs, width=delta_width)\n",
    "\n",
    "    # Second derivative of MFCCs\n",
    "    delta2_mfccs = librosa.feature.delta(mfccs, order=2, width=delta_width)\n",
    "\n",
    "    return mfccs, delta_mfccs, delta2_mfccs"
   ]
  },
  {
   "cell_type": "markdown",
   "id": "51909710",
   "metadata": {},
   "source": [
    "### Other Feature Extraction Functions"
   ]
  },
  {
   "cell_type": "code",
   "execution_count": 54,
   "id": "cf68f6b0",
   "metadata": {},
   "outputs": [],
   "source": [
    "def calculate_energy(data):\n",
    "    \n",
    "    energy = np.sum(np.square(data))\n",
    "    return energy\n"
   ]
  },
  {
   "cell_type": "code",
   "execution_count": 55,
   "id": "9e35bd5b",
   "metadata": {},
   "outputs": [],
   "source": [
    "def get_spectral_centroid(data):\n",
    "    \n",
    "    spectral_centroid = librosa.feature.spectral_centroid(y=data, sr=sample_rate)[0]\n",
    "    \n",
    "    return spectral_centroid"
   ]
  },
  {
   "cell_type": "code",
   "execution_count": 56,
   "id": "0e4a0be5",
   "metadata": {},
   "outputs": [],
   "source": [
    "# Compute the spectral bandwidth of an audio signal.\n",
    "\n",
    "def get_spectral_bandwidth(data):\n",
    "    \n",
    "    spectral_bandwidth=librosa.feature.spectral_bandwidth(y=data)[0]\n",
    "    \n",
    "    return spectral_bandwidth"
   ]
  },
  {
   "cell_type": "code",
   "execution_count": 57,
   "id": "67ca1ea0",
   "metadata": {},
   "outputs": [],
   "source": [
    "# Compute the spectral contrast of an audio signal.\n",
    "\n",
    "def get_spectral_contrast(data):\n",
    "\n",
    "    spectral_contrast=librosa.feature.spectral_contrast(y=data)[0]\n",
    "    \n",
    "    return spectral_contrast"
   ]
  },
  {
   "cell_type": "code",
   "execution_count": 58,
   "id": "8a54a0e3",
   "metadata": {},
   "outputs": [],
   "source": [
    "# Compute the spectral flatness of an audio signal.\n",
    "\n",
    "def get_spectral_flatness(data):\n",
    "\n",
    "    spectral_flatness=librosa.feature.spectral_flatness(y=data)[0]\n",
    "\n",
    "    return spectral_flatness"
   ]
  },
  {
   "cell_type": "code",
   "execution_count": 59,
   "id": "dd7054ef",
   "metadata": {},
   "outputs": [],
   "source": [
    "# Compute the spectral rolloff of an audio signal.\n",
    "\n",
    "def get_spectral_rolloff(data):\n",
    "\n",
    "    spectral_rolloff=librosa.feature.spectral_rolloff(y=data)[0]\n",
    "\n",
    "    return spectral_rolloff"
   ]
  },
  {
   "cell_type": "markdown",
   "id": "916397ec",
   "metadata": {},
   "source": [
    "## Extracting Data Features"
   ]
  },
  {
   "cell_type": "code",
   "execution_count": 60,
   "id": "e54ce215",
   "metadata": {},
   "outputs": [],
   "source": [
    "def get_feature_dictionary(data_frame):\n",
    "    \n",
    "    feature_dict = {\n",
    "    'percentile_25': [],\n",
    "    'percentile_50': [],\n",
    "    'percentile_75': [],\n",
    "    'percentile_90': [],\n",
    "    'mfcc': [],\n",
    "    'sc': [],\n",
    "    'spectral_bandwidth': [],\n",
    "    'spectral_contrast': [],\n",
    "    'spectral_flatness': [],\n",
    "    'spectral_rolloff': [],\n",
    "    'energy': [],\n",
    "    'label': []\n",
    "    }\n",
    "    \n",
    "\n",
    "    # Iterate through rows of training data and extract features\n",
    "    for row in data_frame.values:\n",
    "\n",
    "        extracted_data = row[0]  # Extracted audio data\n",
    "        label = row[1]  # Label of the audio\n",
    "        \n",
    "        # Feature extraction\n",
    "        per_25, per_50, per_75, per_90 = find_percentile_points(extracted_data)  # Percentile points    \n",
    "        mfccs, delta_mfccs, delta2_mfccs = get_mfcc_features(extracted_data)  # MFCC features\n",
    "        comprehensive_mfccs = np.concatenate((mfccs, delta_mfccs, delta2_mfccs))  # Comprehensive MFCCs    \n",
    "        comprehensive_mfccs_mean = np.mean(comprehensive_mfccs, axis=1)  # Mean of MFCC features\n",
    "        sc = np.mean(get_spectral_centroid(extracted_data))  # Spectral centroid\n",
    "        spectral_bandwidth = np.mean(get_spectral_bandwidth(extracted_data))  # Spectral bandwidth\n",
    "        spectral_contrast = np.mean(get_spectral_contrast(extracted_data))  # Spectral contrast\n",
    "        spectral_flatness = np.mean(get_spectral_flatness(extracted_data))  # Spectral flatness\n",
    "        spectral_rolloff = np.mean(get_spectral_rolloff(extracted_data))  # Spectral rolloff\n",
    "        energy = calculate_energy(extracted_data)  # Energy\n",
    "\n",
    "        \n",
    "        # Append extracted features to the dictionary\n",
    "        feature_dict['percentile_25'].append(per_25)\n",
    "        feature_dict['percentile_50'].append(per_50)\n",
    "        feature_dict['percentile_75'].append(per_75)\n",
    "        feature_dict['percentile_90'].append(per_90)\n",
    "        feature_dict['mfcc'].append(comprehensive_mfccs_mean)\n",
    "        feature_dict['sc'].append(sc)\n",
    "        feature_dict['spectral_bandwidth'].append(spectral_bandwidth)\n",
    "        feature_dict['spectral_contrast'].append(spectral_contrast)\n",
    "        feature_dict['spectral_flatness'].append(spectral_flatness)\n",
    "        feature_dict['spectral_rolloff'].append(spectral_rolloff)\n",
    "        feature_dict['energy'].append(energy)\n",
    "        feature_dict['label'].append(label)\n",
    "    \n",
    "    return feature_dict"
   ]
  },
  {
   "cell_type": "markdown",
   "id": "0a62bd3c",
   "metadata": {},
   "source": [
    "### Train Data Feature Extraction"
   ]
  },
  {
   "cell_type": "code",
   "execution_count": 61,
   "id": "66ee9fa6",
   "metadata": {},
   "outputs": [],
   "source": [
    "# Function to remove leading and trailing zeros from a float array\n",
    "\n",
    "def remove_leading_trailing_zeros(array):\n",
    "    \n",
    "    nonzero_indices = np.where(array != 0)[0]\n",
    "    if len(nonzero_indices) == 0:\n",
    "        return np.array([])\n",
    "    \n",
    "    return array[nonzero_indices[0]:nonzero_indices[-1] + 1]"
   ]
  },
  {
   "cell_type": "code",
   "execution_count": 62,
   "id": "41033658",
   "metadata": {
    "scrolled": false
   },
   "outputs": [
    {
     "name": "stdout",
     "output_type": "stream",
     "text": [
      "                                                  data  label\n",
      "0    [0.0, 0.0, 0.0, 0.0, 0.0, 0.0, 0.0, 0.0, 0.0, ...  cough\n",
      "1    [0.0, 0.0, 0.0, 0.0, 0.0, 0.0, 0.0, 0.0, 0.0, ...  cough\n",
      "2    [0.0, 0.0, 0.0, 0.0, 0.0, 0.0, 0.0, 0.0, 0.0, ...  cough\n",
      "3    [0.0, 0.0, 0.0, 0.0, 0.0, 0.0, 0.0, 0.0, 0.0, ...  cough\n",
      "4    [0.4054054054054054, 0.4054054054054054, 0.405...  cough\n",
      "..                                                 ...    ...\n",
      "635  [0.26666666666666666, 0.26666666666666666, 0.2...  other\n",
      "636  [0.4, 0.46666666666666673, 0.4, 0.4, 0.4, 0.33...  other\n",
      "637  [0.7333333333333334, 0.6666666666666667, 0.6, ...  other\n",
      "638  [0.2, 0.2, 0.2, 0.2, 0.2, 0.2, 0.2, 0.2, 0.2, ...  other\n",
      "639  [0.4, 0.4, 0.4, 0.4, 0.33333333333333337, 0.33...  other\n",
      "\n",
      "[640 rows x 2 columns]\n"
     ]
    }
   ],
   "source": [
    "# Extract Train Data\n",
    "\n",
    "# Initialize extracted train data dictionary\n",
    "extracted_train_data = {'data': [], 'label': []}\n",
    "\n",
    "# Iterate through train data and labels\n",
    "for (info, label) in zip(X_train_raw.values, y_train_raw.values):\n",
    "    \n",
    "    # Extract features and timestamps\n",
    "    data, timestamps = info[0], info[1]\n",
    "    data = remove_leading_trailing_zeros(data)\n",
    "\n",
    "    # Preprocess data\n",
    "    data = preprocess_data(data)\n",
    "    \n",
    "    # Extract coughs/others\n",
    "    for timestamp in timestamps:\n",
    "        \n",
    "        start = int(timestamp[0] * sample_rate)\n",
    "        finish = int(timestamp[1] * sample_rate)\n",
    "        \n",
    "        # Ensure start and finish are within bounds\n",
    "        start = max(0, start)\n",
    "        finish = min(len(data), finish)\n",
    "\n",
    "        # Extract data within timestamps\n",
    "        extracted_data = data[start:finish]\n",
    "        \n",
    "        # Append extracted data and label\n",
    "        if len(extracted_data) > 0:\n",
    "            extracted_train_data['data'].append(extracted_data)\n",
    "            extracted_train_data['label'].append(label)\n",
    "        \n",
    "# Convert dictionary to DataFrame\n",
    "df_train_extracted = pd.DataFrame.from_dict(extracted_train_data)\n",
    "print(df_train_extracted)"
   ]
  },
  {
   "cell_type": "markdown",
   "id": "20c5b8a3",
   "metadata": {},
   "source": [
    "### Test Data Feature Extraction"
   ]
  },
  {
   "cell_type": "code",
   "execution_count": 63,
   "id": "c8df8fc4",
   "metadata": {},
   "outputs": [],
   "source": [
    "# Extract Validation Data\n",
    "\n",
    "# Initialize extracted train data dictionary\n",
    "extracted_test_data = {'data': [], 'label': []}\n",
    "\n",
    "# Iterate through train data and labels\n",
    "for (info, label) in zip(X_test_raw.values, y_test_raw.values):\n",
    "    \n",
    "    # Extract features and timestamps\n",
    "    data, timestamps = info[0], info[1]\n",
    "    data = remove_leading_trailing_zeros(data)\n",
    "\n",
    "    # Preprocess data\n",
    "    data = preprocess_data(data)\n",
    "    \n",
    "    # Extract coughs/others\n",
    "    for timestamp in timestamps:\n",
    "        \n",
    "        start = int(timestamp[0] * sample_rate)\n",
    "        finish = int(timestamp[1] * sample_rate)\n",
    "        \n",
    "        # Ensure start and finish are within bounds\n",
    "        start = max(0, start)\n",
    "        finish = min(len(data), finish)\n",
    "\n",
    "        # Extract data within timestamps\n",
    "        extracted_data = data[start:finish]\n",
    "        \n",
    "        # Append extracted data and label\n",
    "        if len(extracted_data) > 0:\n",
    "            extracted_test_data['data'].append(extracted_data)\n",
    "            extracted_test_data['label'].append(label)\n",
    "        \n",
    "# Convert dictionary to DataFrame\n",
    "df_test_extracted = pd.DataFrame.from_dict(extracted_test_data)"
   ]
  },
  {
   "cell_type": "code",
   "execution_count": 64,
   "id": "d3d5a777",
   "metadata": {
    "scrolled": false
   },
   "outputs": [],
   "source": [
    "# Getting feature dictionaries of trianing and validation data\n",
    "\n",
    "Audiodata_train = get_feature_dictionary(df_train_extracted)\n",
    "Audiodata_test = get_feature_dictionary(df_test_extracted)"
   ]
  },
  {
   "cell_type": "markdown",
   "id": "6ecfecef",
   "metadata": {},
   "source": [
    "## Train, Test and Validation Data"
   ]
  },
  {
   "cell_type": "code",
   "execution_count": 65,
   "id": "06a00034",
   "metadata": {
    "scrolled": false
   },
   "outputs": [
    {
     "data": {
      "image/png": "[encoded data removed]",
      "text/plain": [
       "<Figure size 640x480 with 1 Axes>"
      ]
     },
     "metadata": {},
     "output_type": "display_data"
    },
    {
     "name": "stdout",
     "output_type": "stream",
     "text": [
      "   percentile_25  percentile_50  percentile_75  percentile_90  \\\n",
      "0     618.155483    3905.412639            0.0            0.0   \n",
      "1     903.740648   20381.047382            0.0            0.0   \n",
      "2     752.119701   18270.324190            0.0            0.0   \n",
      "3     937.655860    9505.327590            0.0            0.0   \n",
      "4    1749.535094       0.000000            0.0            0.0   \n",
      "\n",
      "                                                mfcc           sc  \\\n",
      "0  [-395.35527343210396, 66.04568328558041, 2.957...  2591.766190   \n",
      "1  [-272.58884441878456, 105.79627527755143, 5.08...  4135.562855   \n",
      "2  [-266.19184223167684, 107.30400388476887, 3.66...  3119.476148   \n",
      "3  [-343.4970569073811, 81.42724043467587, 0.2543...  3221.135188   \n",
      "4  [-176.1389694997634, 119.89684602860927, 6.594...  3594.131331   \n",
      "\n",
      "   spectral_bandwidth  spectral_contrast  spectral_flatness  spectral_rolloff  \\\n",
      "0         1586.744147          15.482643           0.435345       2802.392578   \n",
      "1         2597.220858          16.585308           0.062721       4567.100752   \n",
      "2         2116.156944          17.245974           0.160302       3367.655523   \n",
      "3         1986.571182          17.858643           0.284814       3550.493915   \n",
      "4         2623.026318          18.569010           0.003437       3897.218776   \n",
      "\n",
      "        energy  label  \n",
      "0   278.692621  cough  \n",
      "1   332.082843  cough  \n",
      "2  1022.815754  cough  \n",
      "3   248.779086  cough  \n",
      "4   585.704894  cough  \n"
     ]
    }
   ],
   "source": [
    "# Train Data \n",
    "\n",
    "df_train = pd.DataFrame.from_dict(Audiodata_train) \n",
    "\n",
    "        \n",
    "# Create train data\n",
    "\n",
    "X_train = []\n",
    "y_train = []\n",
    "\n",
    "for row in df_train.values:\n",
    "    \n",
    "    flattened_row = np.concatenate([item.flatten() if isinstance(item, np.ndarray) else [item] for item in row[:-1]])\n",
    "\n",
    "    X_train.append(flattened_row[:-1])\n",
    "    y_train.append(row[-1])\n",
    "    \n",
    "label_encoder = LabelEncoder()\n",
    "y_train = 1 - label_encoder.fit_transform(y_train)\n",
    "\n",
    "\n",
    "# Data Distribution\n",
    "\n",
    "label_counts = df_train['label'].value_counts()\n",
    "\n",
    "fig, ax = plt.subplots()\n",
    "ax.pie(label_counts, labels=label_counts.index, autopct='%1.1f%%')\n",
    "plt.title(\"Train Data Distribution\")\n",
    "plt.show()\n",
    "print(df_train.head())\n"
   ]
  },
  {
   "cell_type": "code",
   "execution_count": 66,
   "id": "e5861e7b",
   "metadata": {},
   "outputs": [
    {
     "data": {
      "image/png": "[encoded data removed]",
      "text/plain": [
       "<Figure size 640x480 with 1 Axes>"
      ]
     },
     "metadata": {},
     "output_type": "display_data"
    }
   ],
   "source": [
    "# Test Data \n",
    "\n",
    "df_test = pd.DataFrame.from_dict(Audiodata_test) \n",
    "        \n",
    "# Create test data\n",
    "\n",
    "X_test = []\n",
    "y_test = []\n",
    "\n",
    "for row in df_test.values:\n",
    "    \n",
    "    flattened_row = np.concatenate([item.flatten() if isinstance(item, np.ndarray) else [item] for item in row[:-1]])\n",
    "\n",
    "    X_test.append(flattened_row[:-1])\n",
    "    y_test.append(row[-1])\n",
    "    \n",
    "    \n",
    "label_encoder = LabelEncoder()\n",
    "y_test = 1 - label_encoder.fit_transform(y_test)\n",
    "\n",
    "\n",
    "# Data Distribution\n",
    "\n",
    "label_counts = df_test['label'].value_counts()\n",
    "\n",
    "fig, ax = plt.subplots()\n",
    "ax.pie(label_counts, labels=label_counts.index, autopct='%1.1f%%')\n",
    "plt.title(\"Test Data Distribution\")\n",
    "plt.show()"
   ]
  },
  {
   "cell_type": "markdown",
   "id": "0d754103",
   "metadata": {},
   "source": [
    "## Cross Validation"
   ]
  },
  {
   "cell_type": "code",
   "execution_count": 67,
   "id": "50260047",
   "metadata": {},
   "outputs": [],
   "source": [
    "kf = KFold(n_splits=5, shuffle=False)"
   ]
  },
  {
   "cell_type": "code",
   "execution_count": 68,
   "id": "7ce53840",
   "metadata": {},
   "outputs": [],
   "source": [
    "model_list = [SVC(), KNeighborsClassifier(), RandomForestClassifier(random_state=0), GaussianNB()]\n",
    "optimized_models = []"
   ]
  },
  {
   "cell_type": "code",
   "execution_count": 69,
   "id": "db5dd860",
   "metadata": {},
   "outputs": [],
   "source": [
    "model_hyperparameters = {\n",
    "\n",
    "    'svc_hyperparameters': {\n",
    "        \n",
    "        'C': [0.5, 1, 10, 100],\n",
    "        'gamma': ['scale', 1, 0.1, 0.01, 0.001, 0.0001],\n",
    "        'kernel': ['rbf']\n",
    "        \n",
    "    },\n",
    "    \n",
    "    'KNN_hyperparameters': {\n",
    "        \n",
    "        'n_neighbors': list(range(3, int(len(X_train) * 0.65),2)),\n",
    "        'weights': ['uniform', 'distance']\n",
    "\n",
    "    },\n",
    "    \n",
    "    'random_forest_hyperparameters': {\n",
    "        \n",
    "        'n_estimators': [10, 20, 50, 100]\n",
    "    },\n",
    "    \n",
    "    'naive_bayes_hyperparameters': {\n",
    "    \n",
    "        'var_smoothing': np.logspace(0,-9, num=100)\n",
    "    },\n",
    "        \n",
    "}"
   ]
  },
  {
   "cell_type": "code",
   "execution_count": 70,
   "id": "138974ac",
   "metadata": {},
   "outputs": [],
   "source": [
    "def compare_models_cross_validation(model_list, X_train_data, y_train_data):\n",
    "    \"\"\"\n",
    "    Compare different models using cross-validation and print their F1 scores.\n",
    "    \n",
    "    Args:\n",
    "    - model_list (list): List of models to compare.\n",
    "    - X_train_data (array-like): Training data features.\n",
    "    - y_train_data (array-like): Training data labels.\n",
    "    \"\"\"\n",
    "    for model in model_list:\n",
    "        cross_val_accuracies = cross_val_score(model, X_train_data, y_train_data, cv=5, scoring='f1')\n",
    "        mean_accuracy = np.mean(cross_val_accuracies)\n",
    "        \n",
    "        print('\\033[1m' + str(model) + '\\033[0m') \n",
    "        print()\n",
    "        \n",
    "        print(\"Cross Validation F1 Scores: \" + str(cross_val_accuracies))\n",
    "        print(\"Mean F1 Score: {}\".format(mean_accuracy))\n",
    "        \n",
    "        print()"
   ]
  },
  {
   "cell_type": "code",
   "execution_count": 71,
   "id": "d37ead00",
   "metadata": {},
   "outputs": [],
   "source": [
    "def model_selection(model_list, model_hyperparameters, X_train_data, y_train_data):\n",
    "    \n",
    "    results = []\n",
    "    optimized_models = []\n",
    "    model_keys = list(model_hyperparameters.keys())\n",
    "    \n",
    "    for i in range(len(model_list)):\n",
    "        \n",
    "        key = model_keys[i]\n",
    "        params = model_hyperparameters[key]\n",
    "        \n",
    "        classifier = GridSearchCV(model_list[i], params, cv=5, scoring='f1')\n",
    "        classifier.fit(X_train_data, y_train_data)\n",
    "        \n",
    "        results.append({\n",
    "            'model used': model_list[i],\n",
    "            'highest score': classifier.best_score_,\n",
    "            'best hyperparameters': classifier.best_params_,\n",
    "            \n",
    "        })\n",
    "\n",
    "    \n",
    "    result_dataframe = pd.DataFrame(results, columns = ['model used', 'highest score', 'best hyperparameters']) \n",
    "    \n",
    "    for model_info in result_dataframe.values:\n",
    "    \n",
    "        model = model_info[0]\n",
    "        best_params = model_info[2]\n",
    "        print(best_params)\n",
    "        model.set_params(**best_params)\n",
    "\n",
    "        optimized_models.append(model)\n",
    "    \n",
    "    return optimized_models"
   ]
  },
  {
   "cell_type": "code",
   "execution_count": 72,
   "id": "f8b5c405",
   "metadata": {
    "scrolled": false
   },
   "outputs": [
    {
     "name": "stdout",
     "output_type": "stream",
     "text": [
      "{'C': 100, 'gamma': 'scale', 'kernel': 'rbf'}\n",
      "{'n_neighbors': 185, 'weights': 'distance'}\n",
      "{'n_estimators': 20}\n",
      "{'var_smoothing': 1.0}\n",
      "\u001b[1mSVC(C=100)\u001b[0m\n",
      "\n",
      "Cross Validation F1 Scores: [0.97382199 0.94565217 0.98429319 1.         0.96174863]\n",
      "Mean F1 Score: 0.9731031982077797\n",
      "\n",
      "\u001b[1mKNeighborsClassifier(n_neighbors=185, weights='distance')\u001b[0m\n",
      "\n",
      "Cross Validation F1 Scores: [0.96335079 0.94565217 0.97938144 0.9947644  0.96174863]\n",
      "Mean F1 Score: 0.9689794868675735\n",
      "\n",
      "\u001b[1mRandomForestClassifier(n_estimators=20, random_state=0)\u001b[0m\n",
      "\n",
      "Cross Validation F1 Scores: [0.94300518 0.93406593 0.98947368 1.         0.95027624]\n",
      "Mean F1 Score: 0.9633642085435067\n",
      "\n",
      "\u001b[1mGaussianNB(var_smoothing=1.0)\u001b[0m\n",
      "\n",
      "Cross Validation F1 Scores: [0.95336788 0.96875    0.95959596 0.96446701 0.95698925]\n",
      "Mean F1 Score: 0.9606340175263195\n",
      "\n"
     ]
    }
   ],
   "source": [
    "optimized_models = model_selection(model_list, model_hyperparameters, X_train, y_train)\n",
    "compare_models_cross_validation(optimized_models, X_train, y_train)"
   ]
  },
  {
   "cell_type": "markdown",
   "id": "c438bd96",
   "metadata": {},
   "source": [
    "## Prediction on Test Set"
   ]
  },
  {
   "cell_type": "code",
   "execution_count": 73,
   "id": "5da7c990",
   "metadata": {
    "scrolled": false
   },
   "outputs": [
    {
     "name": "stdout",
     "output_type": "stream",
     "text": [
      "\n",
      "\u001b[1mSVC(C=100)\u001b[0m\n",
      "--------------------------------------------\n",
      "Confusion Matrix: \n",
      " [[ 58  14]\n",
      " [  4 166]]\n",
      "\n",
      "F1 Score: 0.9485714285714286\n",
      "Recall Score: 0.9764705882352941\n",
      "\n"
     ]
    },
    {
     "data": {
      "image/png": "[encoded data removed]",
      "text/plain": [
       "<Figure size 200x200 with 2 Axes>"
      ]
     },
     "metadata": {},
     "output_type": "display_data"
    },
    {
     "name": "stdout",
     "output_type": "stream",
     "text": [
      "\n",
      "\u001b[1mKNeighborsClassifier(n_neighbors=185, weights='distance')\u001b[0m\n",
      "--------------------------------------------\n",
      "Confusion Matrix: \n",
      " [[ 57  15]\n",
      " [  6 164]]\n",
      "\n",
      "F1 Score: 0.9398280802292264\n",
      "Recall Score: 0.9647058823529412\n",
      "\n"
     ]
    },
    {
     "data": {
      "image/png": "[encoded data removed]",
      "text/plain": [
       "<Figure size 200x200 with 2 Axes>"
      ]
     },
     "metadata": {},
     "output_type": "display_data"
    },
    {
     "name": "stdout",
     "output_type": "stream",
     "text": [
      "\n",
      "\u001b[1mRandomForestClassifier(n_estimators=20, random_state=0)\u001b[0m\n",
      "--------------------------------------------\n",
      "Confusion Matrix: \n",
      " [[ 64   8]\n",
      " [  2 168]]\n",
      "\n",
      "F1 Score: 0.9710982658959537\n",
      "Recall Score: 0.9882352941176471\n",
      "\n"
     ]
    },
    {
     "data": {
      "image/png": "[encoded data removed]",
      "text/plain": [
       "<Figure size 200x200 with 2 Axes>"
      ]
     },
     "metadata": {},
     "output_type": "display_data"
    },
    {
     "name": "stdout",
     "output_type": "stream",
     "text": [
      "\n",
      "\u001b[1mGaussianNB(var_smoothing=1.0)\u001b[0m\n",
      "--------------------------------------------\n",
      "Confusion Matrix: \n",
      " [[ 52  20]\n",
      " [  3 167]]\n",
      "\n",
      "F1 Score: 0.9355742296918768\n",
      "Recall Score: 0.9823529411764705\n",
      "\n"
     ]
    },
    {
     "data": {
      "image/png": "[encoded data removed]",
      "text/plain": [
       "<Figure size 200x200 with 2 Axes>"
      ]
     },
     "metadata": {},
     "output_type": "display_data"
    }
   ],
   "source": [
    "for model in optimized_models:\n",
    "    \n",
    "    model.fit(X_train, y_train)\n",
    "    y_pred = model.predict(X_test)\n",
    "    \n",
    "    cm = confusion_matrix(y_test, y_pred)\n",
    "    f1 = f1_score(y_test, y_pred)\n",
    "    recall = recall_score(y_test, y_pred)\n",
    "    \n",
    "    print()\n",
    "    print('\\033[1m' + str(model) + '\\033[0m') \n",
    "    print(\"--------------------------------------------\")\n",
    "    print(\"Confusion Matrix: \\n {}\".format(cm))\n",
    "    print(\"\\nF1 Score: {}\".format(f1))\n",
    "    print(\"Recall Score: {}\\n\".format(recall))\n",
    "    \n",
    "    display_labels = ['Other', 'Cough']\n",
    "    disp = ConfusionMatrixDisplay.from_predictions(y_test, y_pred, display_labels=['other', 'cough'])\n",
    "    fig = disp.figure_\n",
    "    fig.set_figwidth(2)\n",
    "    fig.set_figheight(2) \n",
    "    plt.show()"
   ]
  },
  {
   "cell_type": "markdown",
   "id": "38781933",
   "metadata": {},
   "source": [
    "## Features"
   ]
  },
  {
   "cell_type": "code",
   "execution_count": 74,
   "id": "4dd52ab3",
   "metadata": {
    "scrolled": true
   },
   "outputs": [
    {
     "name": "stdout",
     "output_type": "stream",
     "text": [
      "\u001b[1mFeatures and Mutual Info Scores\n",
      "\u001b[0m\n",
      "percentile_25 [0.20611933] \n",
      "\n",
      "percentile_50 [0.24265062] \n",
      "\n",
      "percentile_75 [0.34944481] \n",
      "\n",
      "percentile_90 [0.37485008] \n",
      "\n",
      "sc [0.1574842] \n",
      "\n",
      "spectral_bandwidth [0.10357297] \n",
      "\n",
      "spectral_contrast [0.12556673] \n",
      "\n",
      "spectral_flatness [0.12430074] \n",
      "\n",
      "spectral_rolloff [0.12562753] \n",
      "\n",
      "energy [0.00250257] \n",
      "\n",
      "mfcc 1 [0.09664279] \n",
      "\n",
      "mfcc 2 [0.17133024] \n",
      "\n",
      "mfcc 3 [0.04325225] \n",
      "\n",
      "mfcc 4 [0.04419631] \n",
      "\n",
      "mfcc 5 [0.03639972] \n",
      "\n",
      "mfcc 6 [0.05469587] \n",
      "\n",
      "mfcc 7 [0.08749232] \n",
      "\n",
      "mfcc 8 [0.08048615] \n",
      "\n",
      "mfcc 9 [0.06303013] \n",
      "\n",
      "mfcc 10 [0.03919664] \n",
      "\n",
      "mfcc 11 [0.10692922] \n",
      "\n",
      "mfcc 12 [0.08745505] \n",
      "\n",
      "mfcc 13 [0.08225039] \n",
      "\n",
      "mfcc 14 [0.1703334] \n",
      "\n",
      "mfcc 15 [0.18375731] \n",
      "\n",
      "mfcc 16 [0.04910887] \n",
      "\n",
      "mfcc 17 [0.08431593] \n",
      "\n",
      "mfcc 18 [0.09153569] \n",
      "\n",
      "mfcc 19 [0.07255821] \n",
      "\n",
      "mfcc 20 [0.10537522] \n",
      "\n",
      "mfcc 21 [0.12043782] \n",
      "\n",
      "mfcc 22 [0.08117082] \n",
      "\n",
      "mfcc 23 [0.08535801] \n",
      "\n",
      "mfcc 24 [0.10045346] \n",
      "\n",
      "mfcc 25 [0.09127929] \n",
      "\n",
      "mfcc 26 [0.0811818] \n",
      "\n",
      "mfcc 27 [0.11537982] \n",
      "\n",
      "mfcc 28 [0.06638862] \n",
      "\n",
      "mfcc 29 [0.09570883] \n",
      "\n",
      "mfcc 30 [0.13193749] \n",
      "\n",
      "mfcc 31 [0.08967055] \n",
      "\n",
      "mfcc 32 [0.10717256] \n",
      "\n",
      "mfcc 33 [0.0908991] \n",
      "\n",
      "mfcc 34 [0.1026006] \n",
      "\n",
      "mfcc 35 [0.13133817] \n",
      "\n",
      "mfcc 36 [0.12499833] \n",
      "\n",
      "mfcc 37 [0.11738849] \n",
      "\n",
      "mfcc 38 [0.10402299] \n",
      "\n",
      "mfcc 39 [0.11755091] \n",
      "\n"
     ]
    }
   ],
   "source": [
    "columns = df_train.columns\n",
    "\n",
    "print(\"\\033[1mFeatures and Mutual Info Scores\\n\\033[0m\") \n",
    "\n",
    "\n",
    "for feature_name in df_train.columns:\n",
    "    \n",
    "    try: \n",
    "        feature_array = np.array(df_train[feature_name]).reshape(-1,1)\n",
    "        mutual_info_score = mutual_info_classif(feature_array, y_train)\n",
    "\n",
    "        print(feature_name, mutual_info_score, \"\\n\")\n",
    "    \n",
    "    except:\n",
    "        continue\n",
    "\n",
    "\n",
    "mfcc_values = np.asarray(df_train['mfcc'])\n",
    "mfcc_values = np.vstack((mfcc_values)).T\n",
    "\n",
    "for i, mfcc_array in enumerate(mfcc_values):\n",
    "    \n",
    "    mfcc_array = mfcc_array.reshape(-1,1)\n",
    "    mutual_info_score = mutual_info_classif(mfcc_array, y_train)\n",
    "\n",
    "    print(f\"mfcc {i+1} {mutual_info_score} \\n\")"
   ]
  }
 ],
 "metadata": {
  "kernelspec": {
   "display_name": "Python 3 (ipykernel)",
   "language": "python",
   "name": "python3"
  },
  "language_info": {
   "codemirror_mode": {
    "name": "ipython",
    "version": 3
   },
   "file_extension": ".py",
   "mimetype": "text/x-python",
   "name": "python",
   "nbconvert_exporter": "python",
   "pygments_lexer": "ipython3",
   "version": "3.11.4"
  }
 },
 "nbformat": 4,
 "nbformat_minor": 5
}
