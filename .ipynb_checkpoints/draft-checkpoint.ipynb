{
 "cells": [
  {
   "cell_type": "code",
   "execution_count": null,
   "id": "beb7d412",
   "metadata": {},
   "outputs": [],
   "source": [
    "# Plot fft\n",
    "fft_signal = np.fft.fft(filtered_signal)\n",
    "fft_signal = np.abs(fft_signal) / len(filtered_signal)\n",
    "freq = np.fft.fftfreq(len(signal), 1/fs)\n",
    "\n",
    "plt.figure(figsize=(10, 5))\n",
    "plt.plot(freq, np.abs(fft_signal))"
   ]
  }
 ],
 "metadata": {
  "kernelspec": {
   "display_name": "Python 3 (ipykernel)",
   "language": "python",
   "name": "python3"
  },
  "language_info": {
   "codemirror_mode": {
    "name": "ipython",
    "version": 3
   },
   "file_extension": ".py",
   "mimetype": "text/x-python",
   "name": "python",
   "nbconvert_exporter": "python",
   "pygments_lexer": "ipython3",
   "version": "3.11.4"
  }
 },
 "nbformat": 4,
 "nbformat_minor": 5
}
